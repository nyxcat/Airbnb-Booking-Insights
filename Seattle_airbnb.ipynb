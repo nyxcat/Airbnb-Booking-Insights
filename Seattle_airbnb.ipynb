{
 "cells": [
  {
   "cell_type": "code",
   "execution_count": 41,
   "metadata": {
    "_cell_guid": "b1076dfc-b9ad-4769-8c92-a6c4dae69d19",
    "_uuid": "8f2839f25d086af736a60e9eeb907d3b93b6e0e5"
   },
   "outputs": [
    {
     "name": "stdout",
     "output_type": "stream",
     "text": [
      "['.DS_Store', 'listings.csv']\n"
     ]
    }
   ],
   "source": [
    "import numpy as np \n",
    "import pandas as pd \n",
    "import seaborn as sns\n",
    "from sklearn.model_selection import train_test_split\n",
    "from sklearn.preprocessing import StandardScaler\n",
    "from sklearn.ensemble import RandomForestRegressor\n",
    "from sklearn.metrics import r2_score\n",
    "from sklearn.model_selection import GridSearchCV\n",
    "import matplotlib\n",
    "import matplotlib.pyplot as plt\n",
    "from collections import defaultdict\n",
    "import re\n",
    "import datetime\n",
    "import os\n",
    "\n",
    "%matplotlib inline\n",
    "print(os.listdir(\"input\"))"
   ]
  },
  {
   "cell_type": "markdown",
   "metadata": {
    "_uuid": "eed25e3e389172dca5e28d4c0f7d94c88ceff6fb"
   },
   "source": [
    "# Explore the datasets"
   ]
  },
  {
   "cell_type": "code",
   "execution_count": 42,
   "metadata": {
    "_cell_guid": "79c7e3d0-c299-4dcb-8224-4455121ee9b0",
    "_uuid": "d629ff2d2480ee46fbb7e2d37f6b5fab8052498a"
   },
   "outputs": [
    {
     "data": {
      "text/html": [
       "<div>\n",
       "<style scoped>\n",
       "    .dataframe tbody tr th:only-of-type {\n",
       "        vertical-align: middle;\n",
       "    }\n",
       "\n",
       "    .dataframe tbody tr th {\n",
       "        vertical-align: top;\n",
       "    }\n",
       "\n",
       "    .dataframe thead th {\n",
       "        text-align: right;\n",
       "    }\n",
       "</style>\n",
       "<table border=\"1\" class=\"dataframe\">\n",
       "  <thead>\n",
       "    <tr style=\"text-align: right;\">\n",
       "      <th></th>\n",
       "      <th>id</th>\n",
       "      <th>listing_url</th>\n",
       "      <th>scrape_id</th>\n",
       "      <th>last_scraped</th>\n",
       "      <th>name</th>\n",
       "      <th>summary</th>\n",
       "      <th>space</th>\n",
       "      <th>description</th>\n",
       "      <th>experiences_offered</th>\n",
       "      <th>neighborhood_overview</th>\n",
       "      <th>...</th>\n",
       "      <th>review_scores_value</th>\n",
       "      <th>requires_license</th>\n",
       "      <th>license</th>\n",
       "      <th>jurisdiction_names</th>\n",
       "      <th>instant_bookable</th>\n",
       "      <th>cancellation_policy</th>\n",
       "      <th>require_guest_profile_picture</th>\n",
       "      <th>require_guest_phone_verification</th>\n",
       "      <th>calculated_host_listings_count</th>\n",
       "      <th>reviews_per_month</th>\n",
       "    </tr>\n",
       "  </thead>\n",
       "  <tbody>\n",
       "    <tr>\n",
       "      <th>0</th>\n",
       "      <td>241032</td>\n",
       "      <td>https://www.airbnb.com/rooms/241032</td>\n",
       "      <td>20160104002432</td>\n",
       "      <td>2016-01-04</td>\n",
       "      <td>Stylish Queen Anne Apartment</td>\n",
       "      <td>NaN</td>\n",
       "      <td>Make your self at home in this charming one-be...</td>\n",
       "      <td>Make your self at home in this charming one-be...</td>\n",
       "      <td>none</td>\n",
       "      <td>NaN</td>\n",
       "      <td>...</td>\n",
       "      <td>10.0</td>\n",
       "      <td>f</td>\n",
       "      <td>NaN</td>\n",
       "      <td>WASHINGTON</td>\n",
       "      <td>f</td>\n",
       "      <td>moderate</td>\n",
       "      <td>f</td>\n",
       "      <td>f</td>\n",
       "      <td>2</td>\n",
       "      <td>4.07</td>\n",
       "    </tr>\n",
       "    <tr>\n",
       "      <th>1</th>\n",
       "      <td>953595</td>\n",
       "      <td>https://www.airbnb.com/rooms/953595</td>\n",
       "      <td>20160104002432</td>\n",
       "      <td>2016-01-04</td>\n",
       "      <td>Bright &amp; Airy Queen Anne Apartment</td>\n",
       "      <td>Chemically sensitive? We've removed the irrita...</td>\n",
       "      <td>Beautiful, hypoallergenic apartment in an extr...</td>\n",
       "      <td>Chemically sensitive? We've removed the irrita...</td>\n",
       "      <td>none</td>\n",
       "      <td>Queen Anne is a wonderful, truly functional vi...</td>\n",
       "      <td>...</td>\n",
       "      <td>10.0</td>\n",
       "      <td>f</td>\n",
       "      <td>NaN</td>\n",
       "      <td>WASHINGTON</td>\n",
       "      <td>f</td>\n",
       "      <td>strict</td>\n",
       "      <td>t</td>\n",
       "      <td>t</td>\n",
       "      <td>6</td>\n",
       "      <td>1.48</td>\n",
       "    </tr>\n",
       "    <tr>\n",
       "      <th>2</th>\n",
       "      <td>3308979</td>\n",
       "      <td>https://www.airbnb.com/rooms/3308979</td>\n",
       "      <td>20160104002432</td>\n",
       "      <td>2016-01-04</td>\n",
       "      <td>New Modern House-Amazing water view</td>\n",
       "      <td>New modern house built in 2013.  Spectacular s...</td>\n",
       "      <td>Our house is modern, light and fresh with a wa...</td>\n",
       "      <td>New modern house built in 2013.  Spectacular s...</td>\n",
       "      <td>none</td>\n",
       "      <td>Upper Queen Anne is a charming neighborhood fu...</td>\n",
       "      <td>...</td>\n",
       "      <td>10.0</td>\n",
       "      <td>f</td>\n",
       "      <td>NaN</td>\n",
       "      <td>WASHINGTON</td>\n",
       "      <td>f</td>\n",
       "      <td>strict</td>\n",
       "      <td>f</td>\n",
       "      <td>f</td>\n",
       "      <td>2</td>\n",
       "      <td>1.15</td>\n",
       "    </tr>\n",
       "    <tr>\n",
       "      <th>3</th>\n",
       "      <td>7421966</td>\n",
       "      <td>https://www.airbnb.com/rooms/7421966</td>\n",
       "      <td>20160104002432</td>\n",
       "      <td>2016-01-04</td>\n",
       "      <td>Queen Anne Chateau</td>\n",
       "      <td>A charming apartment that sits atop Queen Anne...</td>\n",
       "      <td>NaN</td>\n",
       "      <td>A charming apartment that sits atop Queen Anne...</td>\n",
       "      <td>none</td>\n",
       "      <td>NaN</td>\n",
       "      <td>...</td>\n",
       "      <td>NaN</td>\n",
       "      <td>f</td>\n",
       "      <td>NaN</td>\n",
       "      <td>WASHINGTON</td>\n",
       "      <td>f</td>\n",
       "      <td>flexible</td>\n",
       "      <td>f</td>\n",
       "      <td>f</td>\n",
       "      <td>1</td>\n",
       "      <td>NaN</td>\n",
       "    </tr>\n",
       "    <tr>\n",
       "      <th>4</th>\n",
       "      <td>278830</td>\n",
       "      <td>https://www.airbnb.com/rooms/278830</td>\n",
       "      <td>20160104002432</td>\n",
       "      <td>2016-01-04</td>\n",
       "      <td>Charming craftsman 3 bdm house</td>\n",
       "      <td>Cozy family craftman house in beautiful neighb...</td>\n",
       "      <td>Cozy family craftman house in beautiful neighb...</td>\n",
       "      <td>Cozy family craftman house in beautiful neighb...</td>\n",
       "      <td>none</td>\n",
       "      <td>We are in the beautiful neighborhood of Queen ...</td>\n",
       "      <td>...</td>\n",
       "      <td>9.0</td>\n",
       "      <td>f</td>\n",
       "      <td>NaN</td>\n",
       "      <td>WASHINGTON</td>\n",
       "      <td>f</td>\n",
       "      <td>strict</td>\n",
       "      <td>f</td>\n",
       "      <td>f</td>\n",
       "      <td>1</td>\n",
       "      <td>0.89</td>\n",
       "    </tr>\n",
       "  </tbody>\n",
       "</table>\n",
       "<p>5 rows × 92 columns</p>\n",
       "</div>"
      ],
      "text/plain": [
       "        id                           listing_url       scrape_id last_scraped  \\\n",
       "0   241032   https://www.airbnb.com/rooms/241032  20160104002432   2016-01-04   \n",
       "1   953595   https://www.airbnb.com/rooms/953595  20160104002432   2016-01-04   \n",
       "2  3308979  https://www.airbnb.com/rooms/3308979  20160104002432   2016-01-04   \n",
       "3  7421966  https://www.airbnb.com/rooms/7421966  20160104002432   2016-01-04   \n",
       "4   278830   https://www.airbnb.com/rooms/278830  20160104002432   2016-01-04   \n",
       "\n",
       "                                  name  \\\n",
       "0         Stylish Queen Anne Apartment   \n",
       "1   Bright & Airy Queen Anne Apartment   \n",
       "2  New Modern House-Amazing water view   \n",
       "3                   Queen Anne Chateau   \n",
       "4       Charming craftsman 3 bdm house   \n",
       "\n",
       "                                             summary  \\\n",
       "0                                                NaN   \n",
       "1  Chemically sensitive? We've removed the irrita...   \n",
       "2  New modern house built in 2013.  Spectacular s...   \n",
       "3  A charming apartment that sits atop Queen Anne...   \n",
       "4  Cozy family craftman house in beautiful neighb...   \n",
       "\n",
       "                                               space  \\\n",
       "0  Make your self at home in this charming one-be...   \n",
       "1  Beautiful, hypoallergenic apartment in an extr...   \n",
       "2  Our house is modern, light and fresh with a wa...   \n",
       "3                                                NaN   \n",
       "4  Cozy family craftman house in beautiful neighb...   \n",
       "\n",
       "                                         description experiences_offered  \\\n",
       "0  Make your self at home in this charming one-be...                none   \n",
       "1  Chemically sensitive? We've removed the irrita...                none   \n",
       "2  New modern house built in 2013.  Spectacular s...                none   \n",
       "3  A charming apartment that sits atop Queen Anne...                none   \n",
       "4  Cozy family craftman house in beautiful neighb...                none   \n",
       "\n",
       "                               neighborhood_overview        ...         \\\n",
       "0                                                NaN        ...          \n",
       "1  Queen Anne is a wonderful, truly functional vi...        ...          \n",
       "2  Upper Queen Anne is a charming neighborhood fu...        ...          \n",
       "3                                                NaN        ...          \n",
       "4  We are in the beautiful neighborhood of Queen ...        ...          \n",
       "\n",
       "  review_scores_value requires_license license jurisdiction_names  \\\n",
       "0                10.0                f     NaN         WASHINGTON   \n",
       "1                10.0                f     NaN         WASHINGTON   \n",
       "2                10.0                f     NaN         WASHINGTON   \n",
       "3                 NaN                f     NaN         WASHINGTON   \n",
       "4                 9.0                f     NaN         WASHINGTON   \n",
       "\n",
       "  instant_bookable cancellation_policy  require_guest_profile_picture  \\\n",
       "0                f            moderate                              f   \n",
       "1                f              strict                              t   \n",
       "2                f              strict                              f   \n",
       "3                f            flexible                              f   \n",
       "4                f              strict                              f   \n",
       "\n",
       "  require_guest_phone_verification calculated_host_listings_count  \\\n",
       "0                                f                              2   \n",
       "1                                t                              6   \n",
       "2                                f                              2   \n",
       "3                                f                              1   \n",
       "4                                f                              1   \n",
       "\n",
       "  reviews_per_month  \n",
       "0              4.07  \n",
       "1              1.48  \n",
       "2              1.15  \n",
       "3               NaN  \n",
       "4              0.89  \n",
       "\n",
       "[5 rows x 92 columns]"
      ]
     },
     "execution_count": 42,
     "metadata": {},
     "output_type": "execute_result"
    }
   ],
   "source": [
    "df_listing = pd.read_csv(\"input/listings.csv\")\n",
    "df_listing.head()"
   ]
  },
  {
   "cell_type": "code",
   "execution_count": 5,
   "metadata": {
    "_uuid": "0e45d06ba859eb88d3fb340aab509751cc665b7f"
   },
   "outputs": [
    {
     "name": "stdout",
     "output_type": "stream",
     "text": [
      "listing.csv has 3818 rows and 92 columns.\n"
     ]
    }
   ],
   "source": [
    "print(\"listing.csv has {} rows and {} columns.\".format(df_listing.shape[0], df_listing.shape[1]))"
   ]
  },
  {
   "cell_type": "code",
   "execution_count": 6,
   "metadata": {
    "_uuid": "ab4f8775122390a690736098ae52f2eb8e1cff5b"
   },
   "outputs": [
    {
     "data": {
      "text/html": [
       "<div>\n",
       "<style scoped>\n",
       "    .dataframe tbody tr th:only-of-type {\n",
       "        vertical-align: middle;\n",
       "    }\n",
       "\n",
       "    .dataframe tbody tr th {\n",
       "        vertical-align: top;\n",
       "    }\n",
       "\n",
       "    .dataframe thead th {\n",
       "        text-align: right;\n",
       "    }\n",
       "</style>\n",
       "<table border=\"1\" class=\"dataframe\">\n",
       "  <thead>\n",
       "    <tr style=\"text-align: right;\">\n",
       "      <th></th>\n",
       "      <th>id</th>\n",
       "      <th>scrape_id</th>\n",
       "      <th>host_id</th>\n",
       "      <th>host_listings_count</th>\n",
       "      <th>host_total_listings_count</th>\n",
       "      <th>latitude</th>\n",
       "      <th>longitude</th>\n",
       "      <th>accommodates</th>\n",
       "      <th>bathrooms</th>\n",
       "      <th>bedrooms</th>\n",
       "      <th>...</th>\n",
       "      <th>review_scores_rating</th>\n",
       "      <th>review_scores_accuracy</th>\n",
       "      <th>review_scores_cleanliness</th>\n",
       "      <th>review_scores_checkin</th>\n",
       "      <th>review_scores_communication</th>\n",
       "      <th>review_scores_location</th>\n",
       "      <th>review_scores_value</th>\n",
       "      <th>license</th>\n",
       "      <th>calculated_host_listings_count</th>\n",
       "      <th>reviews_per_month</th>\n",
       "    </tr>\n",
       "  </thead>\n",
       "  <tbody>\n",
       "    <tr>\n",
       "      <th>count</th>\n",
       "      <td>3.818000e+03</td>\n",
       "      <td>3.818000e+03</td>\n",
       "      <td>3.818000e+03</td>\n",
       "      <td>3816.000000</td>\n",
       "      <td>3816.000000</td>\n",
       "      <td>3818.000000</td>\n",
       "      <td>3818.000000</td>\n",
       "      <td>3818.000000</td>\n",
       "      <td>3802.000000</td>\n",
       "      <td>3812.000000</td>\n",
       "      <td>...</td>\n",
       "      <td>3171.000000</td>\n",
       "      <td>3160.000000</td>\n",
       "      <td>3165.000000</td>\n",
       "      <td>3160.000000</td>\n",
       "      <td>3167.000000</td>\n",
       "      <td>3163.000000</td>\n",
       "      <td>3162.000000</td>\n",
       "      <td>0.0</td>\n",
       "      <td>3818.000000</td>\n",
       "      <td>3191.000000</td>\n",
       "    </tr>\n",
       "    <tr>\n",
       "      <th>mean</th>\n",
       "      <td>5.550111e+06</td>\n",
       "      <td>2.016010e+13</td>\n",
       "      <td>1.578556e+07</td>\n",
       "      <td>7.157757</td>\n",
       "      <td>7.157757</td>\n",
       "      <td>47.628961</td>\n",
       "      <td>-122.333103</td>\n",
       "      <td>3.349398</td>\n",
       "      <td>1.259469</td>\n",
       "      <td>1.307712</td>\n",
       "      <td>...</td>\n",
       "      <td>94.539262</td>\n",
       "      <td>9.636392</td>\n",
       "      <td>9.556398</td>\n",
       "      <td>9.786709</td>\n",
       "      <td>9.809599</td>\n",
       "      <td>9.608916</td>\n",
       "      <td>9.452245</td>\n",
       "      <td>NaN</td>\n",
       "      <td>2.946307</td>\n",
       "      <td>2.078919</td>\n",
       "    </tr>\n",
       "    <tr>\n",
       "      <th>std</th>\n",
       "      <td>2.962660e+06</td>\n",
       "      <td>0.000000e+00</td>\n",
       "      <td>1.458382e+07</td>\n",
       "      <td>28.628149</td>\n",
       "      <td>28.628149</td>\n",
       "      <td>0.043052</td>\n",
       "      <td>0.031745</td>\n",
       "      <td>1.977599</td>\n",
       "      <td>0.590369</td>\n",
       "      <td>0.883395</td>\n",
       "      <td>...</td>\n",
       "      <td>6.606083</td>\n",
       "      <td>0.698031</td>\n",
       "      <td>0.797274</td>\n",
       "      <td>0.595499</td>\n",
       "      <td>0.568211</td>\n",
       "      <td>0.629053</td>\n",
       "      <td>0.750259</td>\n",
       "      <td>NaN</td>\n",
       "      <td>5.893029</td>\n",
       "      <td>1.822348</td>\n",
       "    </tr>\n",
       "    <tr>\n",
       "      <th>min</th>\n",
       "      <td>3.335000e+03</td>\n",
       "      <td>2.016010e+13</td>\n",
       "      <td>4.193000e+03</td>\n",
       "      <td>1.000000</td>\n",
       "      <td>1.000000</td>\n",
       "      <td>47.505088</td>\n",
       "      <td>-122.417219</td>\n",
       "      <td>1.000000</td>\n",
       "      <td>0.000000</td>\n",
       "      <td>0.000000</td>\n",
       "      <td>...</td>\n",
       "      <td>20.000000</td>\n",
       "      <td>2.000000</td>\n",
       "      <td>3.000000</td>\n",
       "      <td>2.000000</td>\n",
       "      <td>2.000000</td>\n",
       "      <td>4.000000</td>\n",
       "      <td>2.000000</td>\n",
       "      <td>NaN</td>\n",
       "      <td>1.000000</td>\n",
       "      <td>0.020000</td>\n",
       "    </tr>\n",
       "    <tr>\n",
       "      <th>25%</th>\n",
       "      <td>3.258256e+06</td>\n",
       "      <td>2.016010e+13</td>\n",
       "      <td>3.275204e+06</td>\n",
       "      <td>1.000000</td>\n",
       "      <td>1.000000</td>\n",
       "      <td>47.609418</td>\n",
       "      <td>-122.354320</td>\n",
       "      <td>2.000000</td>\n",
       "      <td>1.000000</td>\n",
       "      <td>1.000000</td>\n",
       "      <td>...</td>\n",
       "      <td>93.000000</td>\n",
       "      <td>9.000000</td>\n",
       "      <td>9.000000</td>\n",
       "      <td>10.000000</td>\n",
       "      <td>10.000000</td>\n",
       "      <td>9.000000</td>\n",
       "      <td>9.000000</td>\n",
       "      <td>NaN</td>\n",
       "      <td>1.000000</td>\n",
       "      <td>0.695000</td>\n",
       "    </tr>\n",
       "    <tr>\n",
       "      <th>50%</th>\n",
       "      <td>6.118244e+06</td>\n",
       "      <td>2.016010e+13</td>\n",
       "      <td>1.055814e+07</td>\n",
       "      <td>1.000000</td>\n",
       "      <td>1.000000</td>\n",
       "      <td>47.623601</td>\n",
       "      <td>-122.328874</td>\n",
       "      <td>3.000000</td>\n",
       "      <td>1.000000</td>\n",
       "      <td>1.000000</td>\n",
       "      <td>...</td>\n",
       "      <td>96.000000</td>\n",
       "      <td>10.000000</td>\n",
       "      <td>10.000000</td>\n",
       "      <td>10.000000</td>\n",
       "      <td>10.000000</td>\n",
       "      <td>10.000000</td>\n",
       "      <td>10.000000</td>\n",
       "      <td>NaN</td>\n",
       "      <td>1.000000</td>\n",
       "      <td>1.540000</td>\n",
       "    </tr>\n",
       "    <tr>\n",
       "      <th>75%</th>\n",
       "      <td>8.035127e+06</td>\n",
       "      <td>2.016010e+13</td>\n",
       "      <td>2.590309e+07</td>\n",
       "      <td>3.000000</td>\n",
       "      <td>3.000000</td>\n",
       "      <td>47.662694</td>\n",
       "      <td>-122.310800</td>\n",
       "      <td>4.000000</td>\n",
       "      <td>1.000000</td>\n",
       "      <td>2.000000</td>\n",
       "      <td>...</td>\n",
       "      <td>99.000000</td>\n",
       "      <td>10.000000</td>\n",
       "      <td>10.000000</td>\n",
       "      <td>10.000000</td>\n",
       "      <td>10.000000</td>\n",
       "      <td>10.000000</td>\n",
       "      <td>10.000000</td>\n",
       "      <td>NaN</td>\n",
       "      <td>2.000000</td>\n",
       "      <td>3.000000</td>\n",
       "    </tr>\n",
       "    <tr>\n",
       "      <th>max</th>\n",
       "      <td>1.034016e+07</td>\n",
       "      <td>2.016010e+13</td>\n",
       "      <td>5.320861e+07</td>\n",
       "      <td>502.000000</td>\n",
       "      <td>502.000000</td>\n",
       "      <td>47.733358</td>\n",
       "      <td>-122.240607</td>\n",
       "      <td>16.000000</td>\n",
       "      <td>8.000000</td>\n",
       "      <td>7.000000</td>\n",
       "      <td>...</td>\n",
       "      <td>100.000000</td>\n",
       "      <td>10.000000</td>\n",
       "      <td>10.000000</td>\n",
       "      <td>10.000000</td>\n",
       "      <td>10.000000</td>\n",
       "      <td>10.000000</td>\n",
       "      <td>10.000000</td>\n",
       "      <td>NaN</td>\n",
       "      <td>37.000000</td>\n",
       "      <td>12.150000</td>\n",
       "    </tr>\n",
       "  </tbody>\n",
       "</table>\n",
       "<p>8 rows × 30 columns</p>\n",
       "</div>"
      ],
      "text/plain": [
       "                 id     scrape_id       host_id  host_listings_count  \\\n",
       "count  3.818000e+03  3.818000e+03  3.818000e+03          3816.000000   \n",
       "mean   5.550111e+06  2.016010e+13  1.578556e+07             7.157757   \n",
       "std    2.962660e+06  0.000000e+00  1.458382e+07            28.628149   \n",
       "min    3.335000e+03  2.016010e+13  4.193000e+03             1.000000   \n",
       "25%    3.258256e+06  2.016010e+13  3.275204e+06             1.000000   \n",
       "50%    6.118244e+06  2.016010e+13  1.055814e+07             1.000000   \n",
       "75%    8.035127e+06  2.016010e+13  2.590309e+07             3.000000   \n",
       "max    1.034016e+07  2.016010e+13  5.320861e+07           502.000000   \n",
       "\n",
       "       host_total_listings_count     latitude    longitude  accommodates  \\\n",
       "count                3816.000000  3818.000000  3818.000000   3818.000000   \n",
       "mean                    7.157757    47.628961  -122.333103      3.349398   \n",
       "std                    28.628149     0.043052     0.031745      1.977599   \n",
       "min                     1.000000    47.505088  -122.417219      1.000000   \n",
       "25%                     1.000000    47.609418  -122.354320      2.000000   \n",
       "50%                     1.000000    47.623601  -122.328874      3.000000   \n",
       "75%                     3.000000    47.662694  -122.310800      4.000000   \n",
       "max                   502.000000    47.733358  -122.240607     16.000000   \n",
       "\n",
       "         bathrooms     bedrooms        ...          review_scores_rating  \\\n",
       "count  3802.000000  3812.000000        ...                   3171.000000   \n",
       "mean      1.259469     1.307712        ...                     94.539262   \n",
       "std       0.590369     0.883395        ...                      6.606083   \n",
       "min       0.000000     0.000000        ...                     20.000000   \n",
       "25%       1.000000     1.000000        ...                     93.000000   \n",
       "50%       1.000000     1.000000        ...                     96.000000   \n",
       "75%       1.000000     2.000000        ...                     99.000000   \n",
       "max       8.000000     7.000000        ...                    100.000000   \n",
       "\n",
       "       review_scores_accuracy  review_scores_cleanliness  \\\n",
       "count             3160.000000                3165.000000   \n",
       "mean                 9.636392                   9.556398   \n",
       "std                  0.698031                   0.797274   \n",
       "min                  2.000000                   3.000000   \n",
       "25%                  9.000000                   9.000000   \n",
       "50%                 10.000000                  10.000000   \n",
       "75%                 10.000000                  10.000000   \n",
       "max                 10.000000                  10.000000   \n",
       "\n",
       "       review_scores_checkin  review_scores_communication  \\\n",
       "count            3160.000000                  3167.000000   \n",
       "mean                9.786709                     9.809599   \n",
       "std                 0.595499                     0.568211   \n",
       "min                 2.000000                     2.000000   \n",
       "25%                10.000000                    10.000000   \n",
       "50%                10.000000                    10.000000   \n",
       "75%                10.000000                    10.000000   \n",
       "max                10.000000                    10.000000   \n",
       "\n",
       "       review_scores_location  review_scores_value  license  \\\n",
       "count             3163.000000          3162.000000      0.0   \n",
       "mean                 9.608916             9.452245      NaN   \n",
       "std                  0.629053             0.750259      NaN   \n",
       "min                  4.000000             2.000000      NaN   \n",
       "25%                  9.000000             9.000000      NaN   \n",
       "50%                 10.000000            10.000000      NaN   \n",
       "75%                 10.000000            10.000000      NaN   \n",
       "max                 10.000000            10.000000      NaN   \n",
       "\n",
       "       calculated_host_listings_count  reviews_per_month  \n",
       "count                     3818.000000        3191.000000  \n",
       "mean                         2.946307           2.078919  \n",
       "std                          5.893029           1.822348  \n",
       "min                          1.000000           0.020000  \n",
       "25%                          1.000000           0.695000  \n",
       "50%                          1.000000           1.540000  \n",
       "75%                          2.000000           3.000000  \n",
       "max                         37.000000          12.150000  \n",
       "\n",
       "[8 rows x 30 columns]"
      ]
     },
     "execution_count": 6,
     "metadata": {},
     "output_type": "execute_result"
    }
   ],
   "source": [
    "df_listing.describe()"
   ]
  },
  {
   "cell_type": "markdown",
   "metadata": {
    "_uuid": "f98feb8e5e660329a54faf99e39a5bad8fc80a95"
   },
   "source": [
    "## Deal with Missing Values and Feature Engineering"
   ]
  },
  {
   "cell_type": "markdown",
   "metadata": {
    "_uuid": "a48005ed319d9af5c412baeadf9ccdc7f57509a4"
   },
   "source": [
    "### The dataset still has 79 features, and we should only retain the  features that are valuable in predicting the price of a listing. Those columns are: 'name', 'summary', 'space', 'description', 'neighborhood_overview', 'notes',  'host_since', 'host_about', 'host_response_time', 'host_response_rate', 'host_acceptance_rate', 'square_feet', 'host_is_superhost', 'host_listings_count', 'host_verifications', 'host_has_profile_pic', 'host_identity_verified', 'neighbourhood_group_cleansed', 'property_type', 'room_type', 'accommodates', 'bathrooms', 'bedrooms', 'beds', 'bed_type', 'amenities', 'minimum_nights', 'maximum_nights', 'availability_90', 'number_of_reviews', 'review_scores_rating', 'instant_bookable', 'cancellation_policy', 'require_guest_profile_picture'. The target column is 'price'.\n",
    "The dataset has 92 features. Let's clean the data, and retain the most valuable features.\n",
    "- Description -- name, summary, space, description\n",
    "- Host -- host_response_time, host_response_rate, host_acceptance_rate, host_is_superhost\n",
    "- Home -- neighbourhood_group_cleansed, property_type, room_type, accommodates, bathrooms, bedrooms, beds, bed_type, amenities\n",
    "- Other factors -- price, security_deposit, cleaning_fee, extra_people, minimum_nights, maximum_nights, instant_bookable, cancellation_policy, number_of_reviews\n",
    "- Target -- review_scores_rating|"
   ]
  },
  {
   "cell_type": "code",
   "execution_count": 7,
   "metadata": {
    "_uuid": "ed328a5a8de66dbca053047bbf6d53f1fa4e2505"
   },
   "outputs": [],
   "source": [
    "clean_df = df_listing.loc[:, ['name', 'summary', 'space', 'description', 'neighborhood_overview', \\\n",
    "                              'notes', 'host_since', 'host_about', 'host_response_time', \\\n",
    "                              'host_response_rate', 'host_acceptance_rate', 'host_is_superhost', \\\n",
    "                              'square_feet', 'host_listings_count', 'host_verifications', \\\n",
    "                              'host_has_profile_pic', 'host_identity_verified', 'neighbourhood_group_cleansed', \\\n",
    "                              'property_type', 'room_type', 'accommodates', 'bathrooms', 'bedrooms', \\\n",
    "                              'beds', 'bed_type', 'amenities', 'minimum_nights', 'maximum_nights', \\\n",
    "                              'availability_90', 'number_of_reviews', 'review_scores_rating', \\\n",
    "                              'instant_bookable', 'cancellation_policy', 'require_guest_profile_picture', \\\n",
    "                              'price']]"
   ]
  },
  {
   "cell_type": "code",
   "execution_count": 8,
   "metadata": {
    "_uuid": "935c19b2a6f1e89a3e28f732811ec2413c78a23b"
   },
   "outputs": [],
   "source": [
    "# drop rows with the target value missing, our target is review_scores_rating\n",
    "clean_df.dropna(subset=['price'], axis=0, inplace=True)\n",
    "\n",
    "# drop columns with all missing values\n",
    "clean_df.dropna(axis=1, how='all', inplace=True)"
   ]
  },
  {
   "cell_type": "code",
   "execution_count": 9,
   "metadata": {
    "_uuid": "bdff93d6e89df0c93952bdf9359c02e598912385"
   },
   "outputs": [
    {
     "data": {
      "image/png": "[encoded data removed]",
      "text/plain": [
       "<Figure size 720x432 with 1 Axes>"
      ]
     },
     "metadata": {},
     "output_type": "display_data"
    }
   ],
   "source": [
    "# plt.bar(x=df_listing[df_listing.isnull().sum()>0].columns, height=df_listing.isnull().sum()>0);\n",
    "# plt.xticks(rotation=90);\n",
    "columns_missing_value = clean_df.columns[clean_df.isnull().any()]\n",
    "columns_missing_value_portion = clean_df[columns_missing_value].isnull().sum() / clean_df.shape[0]\n",
    "plt.figure(figsize=(10,6))\n",
    "plt.barh(columns_missing_value, columns_missing_value_portion);\n",
    "plt.xticks(rotation=90);\n",
    "plt.title(\"Percentage of Missing Values in Columns with Missing Values\");"
   ]
  },
  {
   "cell_type": "code",
   "execution_count": 10,
   "metadata": {
    "_uuid": "ad28a417f772fd5140d96a5a0b250a7e52d95e65"
   },
   "outputs": [],
   "source": [
    "# drop 'square_feet' column, since it has more than 90% of missing values\n",
    "clean_df.drop(['square_feet'], axis=1, inplace=True)"
   ]
  },
  {
   "cell_type": "code",
   "execution_count": 11,
   "metadata": {
    "_uuid": "fb4b24edd342e5fc4f9b604ba050c0defcb5c143"
   },
   "outputs": [],
   "source": [
    "# drop columns contain the same value, they have no predicting power\n",
    "cols_same_val = clean_df.columns[clean_df.nunique() == 1]\n",
    "clean_df.drop(cols_same_val, axis=1, inplace=True)"
   ]
  },
  {
   "cell_type": "code",
   "execution_count": 12,
   "metadata": {
    "_uuid": "1aeb2f9883d3a7ea732712ce251c7d4396c558d2"
   },
   "outputs": [
    {
     "name": "stdout",
     "output_type": "stream",
     "text": [
      "The clean dataset now has 34 features.\n"
     ]
    }
   ],
   "source": [
    "print('The clean dataset now has {} features.'.format(clean_df.shape[1]))"
   ]
  },
  {
   "cell_type": "code",
   "execution_count": 13,
   "metadata": {
    "_uuid": "3c52c3db66261f6e0ce343b37a0dbcd757b3485a"
   },
   "outputs": [],
   "source": [
    "# Convert 'name', 'summary', 'space', 'description', 'neighborhood_overview', 'notes', 'host_about'\n",
    "# to the number of words\n",
    "def str_to_len(string):\n",
    "    if string is not np.nan:\n",
    "        num = len(string.split())\n",
    "        return num\n",
    "    else:\n",
    "        return 0\n",
    "    \n",
    "description_columns = ['name', 'summary', 'space', 'description', 'neighborhood_overview', \\\n",
    "                       'notes', 'host_about']\n",
    "\n",
    "# add new columns contain the number of words \n",
    "for col in description_columns:\n",
    "    new_col = col + '_len'\n",
    "    clean_df[new_col] = clean_df[col].apply(str_to_len)\n",
    "    \n",
    "# drop original columns\n",
    "clean_df.drop(description_columns, axis=1, inplace=True)"
   ]
  },
  {
   "cell_type": "code",
   "execution_count": 14,
   "metadata": {
    "_uuid": "24b8bd4799310b77e28fbf2cb86a445803496317"
   },
   "outputs": [
    {
     "name": "stdout",
     "output_type": "stream",
     "text": [
      "Column name: host_since\n",
      "Data type: object\n",
      "Unique values: ['2011-08-11' '2013-02-21' '2014-06-12' ... '2011-03-27' '2015-12-30'\n",
      " '2014-04-25']\n",
      "Column name: host_response_time\n",
      "Data type: object\n",
      "Unique values: ['within a few hours' 'within an hour' nan 'within a day'\n",
      " 'a few days or more']\n",
      "Column name: host_response_rate\n",
      "Data type: object\n",
      "Unique values: ['96%' '98%' '67%' nan '100%' '71%' '97%' '60%' '50%' '31%' '90%' '70%'\n",
      " '88%' '80%' '63%' '33%' '99%' '75%' '83%' '94%' '58%' '43%' '93%' '92%'\n",
      " '40%' '57%' '89%' '95%' '78%' '81%' '91%' '38%' '86%' '30%' '56%' '76%'\n",
      " '64%' '82%' '17%' '87%' '25%' '69%' '53%' '65%' '68%' '55%']\n",
      "Column name: host_acceptance_rate\n",
      "Data type: object\n",
      "Unique values: ['100%' nan '0%']\n",
      "Column name: host_is_superhost\n",
      "Data type: object\n",
      "Unique values: ['f' 't' nan]\n",
      "Column name: host_listings_count\n",
      "Data type: float64\n",
      "Unique values: [  3.   6.   2.   1.   5.   9.   4.  36. 354.   8.  37.   7.  34.  10.\n",
      "  13.  21.  11. 169.  48. 502.  12.  nan  18.  19.  15.  84. 163.  17.]\n",
      "Column name: host_verifications\n",
      "Data type: object\n",
      "Unique values: [\"['email', 'phone', 'reviews', 'kba']\"\n",
      " \"['email', 'phone', 'facebook', 'linkedin', 'reviews', 'jumio']\"\n",
      " \"['email', 'phone', 'google', 'reviews', 'jumio']\"\n",
      " \"['email', 'phone', 'facebook', 'reviews', 'jumio']\"\n",
      " \"['email', 'phone', 'facebook', 'reviews', 'kba']\"\n",
      " \"['email', 'phone', 'facebook', 'google', 'linkedin', 'reviews', 'jumio']\"\n",
      " \"['email', 'phone', 'facebook', 'linkedin', 'reviews', 'kba']\"\n",
      " \"['email', 'phone', 'linkedin', 'reviews', 'jumio']\"\n",
      " \"['email', 'reviews', 'kba']\"\n",
      " \"['email', 'phone', 'linkedin', 'reviews', 'kba']\"\n",
      " \"['email', 'phone', 'facebook', 'reviews']\" \"['phone', 'reviews']\"\n",
      " \"['phone']\" \"['email', 'phone', 'reviews']\"\n",
      " \"['email', 'phone', 'reviews', 'jumio', 'kba']\"\n",
      " \"['email', 'phone', 'facebook', 'google', 'reviews', 'jumio']\"\n",
      " \"['email', 'phone', 'facebook', 'google', 'linkedin', 'reviews', 'kba']\"\n",
      " \"['email', 'phone', 'reviews', 'jumio']\"\n",
      " \"['email', 'phone', 'google', 'linkedin', 'reviews', 'manual_offline', 'jumio']\"\n",
      " \"['email', 'phone', 'google', 'kba']\" \"['email', 'phone', 'facebook']\"\n",
      " \"['email', 'phone']\"\n",
      " \"['email', 'phone', 'facebook', 'google', 'linkedin', 'reviews', 'jumio', 'kba']\"\n",
      " \"['email', 'phone', 'google', 'reviews', 'kba']\"\n",
      " \"['email', 'phone', 'linkedin', 'reviews', 'jumio', 'kba']\"\n",
      " \"['email', 'phone', 'facebook', 'google', 'reviews', 'kba']\"\n",
      " \"['email', 'phone', 'facebook', 'google', 'linkedin', 'amex', 'reviews', 'kba']\"\n",
      " \"['email', 'phone', 'facebook', 'reviews', 'jumio', 'kba']\"\n",
      " \"['email', 'phone', 'google']\"\n",
      " \"['email', 'phone', 'google', 'linkedin', 'reviews', 'kba']\"\n",
      " \"['email', 'phone', 'google', 'linkedin', 'reviews', 'jumio']\"\n",
      " \"['phone', 'reviews', 'kba']\"\n",
      " \"['email', 'phone', 'facebook', 'linkedin', 'jumio']\"\n",
      " \"['email', 'phone', 'reviews', 'manual_offline', 'jumio', 'kba']\"\n",
      " \"['email', 'phone', 'linkedin', 'reviews']\"\n",
      " \"['email', 'phone', 'manual_online', 'reviews', 'jumio']\"\n",
      " \"['email', 'phone', 'facebook', 'reviews', 'manual_offline', 'jumio', 'kba']\"\n",
      " \"['email', 'phone', 'google', 'reviews', 'jumio', 'kba']\"\n",
      " \"['email', 'phone', 'facebook', 'jumio']\"\n",
      " \"['email', 'phone', 'facebook', 'google', 'reviews']\"\n",
      " \"['email', 'phone', 'linkedin', 'reviews', 'manual_offline', 'sent_id', 'kba']\"\n",
      " \"['email', 'phone', 'facebook', 'linkedin', 'reviews']\"\n",
      " \"['email', 'phone', 'facebook', 'google', 'linkedin', 'amex', 'reviews', 'jumio']\"\n",
      " \"['email', 'phone', 'facebook', 'linkedin', 'reviews', 'jumio', 'kba']\"\n",
      " \"['email', 'facebook', 'reviews']\"\n",
      " \"['email', 'phone', 'linkedin', 'jumio', 'kba']\"\n",
      " \"['email', 'phone', 'linkedin', 'kba']\"\n",
      " \"['phone', 'linkedin', 'reviews', 'kba']\"\n",
      " \"['phone', 'facebook', 'reviews']\" \"['phone', 'facebook']\"\n",
      " \"['email', 'phone', 'facebook', 'google', 'linkedin', 'kba']\"\n",
      " \"['email', 'phone', 'google', 'jumio']\"\n",
      " \"['email', 'phone', 'reviews', 'manual_offline', 'kba']\"\n",
      " \"['email', 'phone', 'facebook', 'google', 'reviews', 'jumio', 'kba']\"\n",
      " \"['email', 'facebook', 'reviews', 'jumio']\"\n",
      " \"['email', 'phone', 'manual_online', 'reviews', 'manual_offline', 'kba']\"\n",
      " \"['email', 'phone', 'jumio']\"\n",
      " \"['email', 'phone', 'facebook', 'amex', 'reviews', 'jumio']\"\n",
      " \"['email', 'phone', 'facebook', 'google']\"\n",
      " \"['phone', 'facebook', 'reviews', 'jumio']\"\n",
      " \"['email', 'phone', 'facebook', 'amex', 'reviews', 'kba']\"\n",
      " \"['email', 'phone', 'facebook', 'google', 'linkedin', 'reviews', 'kba', 'photographer']\"\n",
      " \"['email', 'phone', 'facebook', 'google', 'amex', 'reviews', 'jumio']\"\n",
      " \"['email', 'phone', 'linkedin', 'jumio']\"\n",
      " \"['phone', 'facebook', 'reviews', 'kba']\"\n",
      " \"['email', 'phone', 'google', 'linkedin', 'amex', 'reviews', 'kba']\"\n",
      " \"['email', 'facebook', 'google', 'linkedin', 'reviews', 'kba']\"\n",
      " \"['email', 'phone', 'reviews', 'manual_offline', 'jumio']\" '[]'\n",
      " \"['email', 'phone', 'facebook', 'jumio', 'kba']\"\n",
      " \"['email', 'phone', 'google', 'reviews']\"\n",
      " \"['email', 'phone', 'reviews', 'sent_id']\"\n",
      " \"['email', 'phone', 'linkedin', 'amex', 'jumio']\"\n",
      " \"['email', 'phone', 'reviews', 'sent_id', 'kba']\"\n",
      " \"['email', 'phone', 'facebook', 'reviews', 'manual_offline', 'jumio']\"\n",
      " \"['email', 'phone', 'kba']\"\n",
      " \"['phone', 'facebook', 'google', 'linkedin', 'reviews', 'jumio']\"\n",
      " \"['email', 'linkedin', 'reviews', 'jumio']\"\n",
      " \"['email', 'phone', 'facebook', 'linkedin', 'amex', 'reviews', 'kba']\"\n",
      " \"['email', 'phone', 'facebook', 'kba']\" 'None'\n",
      " \"['email', 'phone', 'manual_online', 'reviews', 'manual_offline', 'sent_id']\"\n",
      " \"['email', 'phone', 'facebook', 'linkedin', 'amex', 'reviews', 'jumio', 'kba']\"\n",
      " \"['email', 'phone', 'facebook', 'reviews', 'manual_offline']\"\n",
      " \"['email', 'reviews', 'jumio']\" \"['phone', 'reviews', 'jumio']\"\n",
      " \"['email', 'phone', 'facebook', 'linkedin']\"\n",
      " \"['email', 'phone', 'google', 'linkedin', 'reviews', 'jumio', 'kba']\"\n",
      " \"['email', 'phone', 'facebook', 'google', 'kba']\" \"['email']\"\n",
      " \"['email', 'phone', 'facebook', 'linkedin', 'kba']\"\n",
      " \"['email', 'phone', 'google', 'reviews', 'weibo', 'jumio']\"\n",
      " \"['email', 'phone', 'google', 'linkedin', 'kba']\"\n",
      " \"['email', 'phone', 'linkedin', 'reviews', 'manual_offline', 'jumio']\"\n",
      " \"['email', 'phone', 'google', 'linkedin', 'jumio']\"\n",
      " \"['phone', 'linkedin', 'reviews']\" \"['email', 'reviews']\"\n",
      " \"['email', 'phone', 'manual_online', 'reviews', 'manual_offline', 'jumio']\"\n",
      " \"['email', 'facebook']\"\n",
      " \"['email', 'phone', 'manual_online', 'reviews', 'kba']\"\n",
      " \"['google', 'jumio']\" \"['phone', 'facebook', 'linkedin', 'reviews']\"\n",
      " \"['email', 'phone', 'reviews', 'manual_offline']\"\n",
      " \"['email', 'phone', 'facebook', 'reviews', 'jumio', 'photographer']\"\n",
      " \"['phone', 'facebook', 'google']\"\n",
      " \"['email', 'phone', 'facebook', 'google', 'jumio']\"\n",
      " \"['email', 'phone', 'manual_online', 'facebook', 'reviews', 'manual_offline', 'sent_id']\"\n",
      " \"['email', 'phone', 'facebook', 'reviews', 'sent_id', 'kba']\"\n",
      " \"['email', 'phone', 'facebook', 'manual_offline', 'jumio']\"\n",
      " \"['email', 'phone', 'google', 'linkedin', 'reviews']\"\n",
      " \"['email', 'phone', 'manual_online', 'facebook', 'reviews', 'manual_offline']\"\n",
      " \"['email', 'facebook', 'reviews', 'kba']\"\n",
      " \"['phone', 'facebook', 'jumio']\"\n",
      " \"['email', 'phone', 'facebook', 'google', 'linkedin', 'reviews']\"\n",
      " \"['email', 'phone', 'manual_online', 'reviews', 'manual_offline']\"\n",
      " \"['reviews']\"]\n",
      "Column name: host_has_profile_pic\n",
      "Data type: object\n",
      "Unique values: ['t' 'f' nan]\n",
      "Column name: host_identity_verified\n",
      "Data type: object\n",
      "Unique values: ['t' 'f' nan]\n",
      "Column name: neighbourhood_group_cleansed\n",
      "Data type: object\n",
      "Unique values: ['Queen Anne' 'Ballard' 'Other neighborhoods' 'Cascade' 'Central Area'\n",
      " 'University District' 'Downtown' 'Magnolia' 'West Seattle' 'Interbay'\n",
      " 'Beacon Hill' 'Rainier Valley' 'Delridge' 'Seward Park' 'Northgate'\n",
      " 'Capitol Hill' 'Lake City']\n",
      "Column name: property_type\n",
      "Data type: object\n",
      "Unique values: ['Apartment' 'House' 'Cabin' 'Condominium' 'Camper/RV' 'Bungalow'\n",
      " 'Townhouse' 'Loft' 'Boat' 'Bed & Breakfast' 'Other' 'Dorm' 'Treehouse'\n",
      " 'Yurt' 'Chalet' 'Tent' nan]\n",
      "Column name: room_type\n",
      "Data type: object\n",
      "Unique values: ['Entire home/apt' 'Private room' 'Shared room']\n",
      "Column name: accommodates\n",
      "Data type: int64\n",
      "Unique values: [ 4 11  3  6  2  5 16 10  1  8  7 12  9 15 14]\n",
      "Column name: bathrooms\n",
      "Data type: float64\n",
      "Unique values: [1.  4.5 2.  3.5 1.5 2.5 3.  0.5 4.  0.  8.  nan 5. ]\n",
      "Column name: bedrooms\n",
      "Data type: float64\n",
      "Unique values: [ 1.  5.  0.  3.  2.  6.  4. nan  7.]\n",
      "Column name: beds\n",
      "Data type: float64\n",
      "Unique values: [ 1.  7.  2.  3. 15.  5.  4.  6.  9.  8. nan 10.]\n",
      "Column name: bed_type\n",
      "Data type: object\n",
      "Unique values: ['Real Bed' 'Futon' 'Pull-out Sofa' 'Airbed' 'Couch']\n",
      "Column name: amenities\n",
      "Data type: object\n",
      "Unique values: ['{TV,\"Cable TV\",Internet,\"Wireless Internet\",\"Air Conditioning\",Kitchen,Heating,\"Family/Kid Friendly\",Washer,Dryer}'\n",
      " '{TV,Internet,\"Wireless Internet\",Kitchen,\"Free Parking on Premises\",\"Buzzer/Wireless Intercom\",Heating,\"Family/Kid Friendly\",Washer,Dryer,\"Smoke Detector\",\"Carbon Monoxide Detector\",\"First Aid Kit\",\"Safety Card\",\"Fire Extinguisher\",Essentials}'\n",
      " '{TV,\"Cable TV\",Internet,\"Wireless Internet\",\"Air Conditioning\",Kitchen,\"Free Parking on Premises\",\"Pets Allowed\",\"Pets live on this property\",Dog(s),Cat(s),\"Hot Tub\",\"Indoor Fireplace\",Heating,\"Family/Kid Friendly\",Washer,Dryer,\"Smoke Detector\",\"Carbon Monoxide Detector\",Essentials,Shampoo}'\n",
      " ...\n",
      " '{\"Cable TV\",\"Wireless Internet\",Kitchen,\"Free Parking on Premises\",Breakfast,\"Pets live on this property\",Dog(s),Cat(s),Heating,Washer,Dryer,\"Smoke Detector\",\"First Aid Kit\",\"Safety Card\",\"Fire Extinguisher\",Essentials,Hangers,\"Hair Dryer\",Iron,\"Laptop Friendly Workspace\"}'\n",
      " '{TV,\"Wireless Internet\",Kitchen,\"Free Parking on Premises\",\"Elevator in Building\",Heating,\"Smoke Detector\",Essentials,Hangers,\"Hair Dryer\",\"Laptop Friendly Workspace\"}'\n",
      " '{TV,\"Cable TV\",Internet,\"Wireless Internet\",Kitchen,\"Free Parking on Premises\",\"Pets live on this property\",Dog(s),\"Elevator in Building\",\"Hot Tub\",\"Indoor Fireplace\",\"Buzzer/Wireless Intercom\",Heating,\"Family/Kid Friendly\",Washer,Dryer,\"Smoke Detector\",Essentials,Shampoo,Hangers,Iron,\"Laptop Friendly Workspace\"}']\n",
      "Column name: minimum_nights\n",
      "Data type: int64\n",
      "Unique values: [   1    2    4    3    5   14   30   21   20    7    6   26   15   12\n",
      "   10   13   31    8 1000   28   11   29]\n",
      "Column name: maximum_nights\n",
      "Data type: int64\n",
      "Unique values: [   365     90     30   1125      6     14      7     29     15     10\n",
      "    120     26    999     60     45     35     28     31    100     16\n",
      "     21     13     99    180      3      5     44      9     32     20\n",
      "      8    730    500     22     27      4    270     24    125    150\n",
      "    360     40      1     70     50     18     25    260     33    234\n",
      "      2     95   1000   1825 100000     23     19    200     93    183\n",
      "    352     12     11     65     91    160    330    400]\n",
      "Column name: availability_90\n",
      "Data type: int64\n",
      "Unique values: [71 16 17  0 90 27 42 66 49 21 63 65 69 89 82 84 85 33 30 62 77  9 68 88\n",
      " 76 40 43 64 11 87 20 81 29 28 50 45 44 48 25 75 46 80 73 52 79 60 13 56\n",
      " 70 78 19 34 54  2 72 59 61 83 10 51  8 58 14 67 86 38  1 31  5 53 23  3\n",
      " 26 32 35 57 55 22 47 15  7 36 12 74 41  6 24 37 18  4 39]\n",
      "Column name: number_of_reviews\n",
      "Data type: int64\n",
      "Unique values: [207  43  20   0  38  17  58 173   8  32 181  13   3  18   1  84  45   5\n",
      "  11  80   6   4  68  62  19   7   2  71   9  41  26  44  10  77 109  52\n",
      " 191  65  16  23  75  86 151 165  48  27  88 244  40  46  14  12  25  35\n",
      "  31 113  15  56  39  79  50  28  57  64  85 125 121 131  49 111  24  81\n",
      " 115  72  74 107 155  98 139  34  36  61  55  53  59  63  21 106  30  97\n",
      "  54  29  37  33 203 182  66  70  69 100  47  83  73 118  60 112  42 135\n",
      "  22  92  78 132  93 124 146 158 270 104  96  99  94 136  51 164  95 141\n",
      " 183 188  89 108  76  67 159 123 168 170 466 474 161 265 319 114 102 240\n",
      " 154 122 105 117 133  82 209 238 137 297 144 127 179 138 190  90 206 166\n",
      " 145 148  91 147 287 101 204 134 320 278 189 175 279 294 263 193 255  87\n",
      " 110 119 404 103 219 156 180 120 277 142 353 150 233 210 128]\n",
      "Column name: review_scores_rating\n",
      "Data type: float64\n",
      "Unique values: [ 95.  96.  97.  nan  92.  99.  98. 100.  80.  85.  84.  88.  75.  90.\n",
      "  91.  94.  93.  77.  89.  71.  82.  87.  73.  83.  86.  76.  78.  66.\n",
      "  74.  60.  64.  70.  68.  72.  40.  79.  55.  20.  67.  57.  65.  53.\n",
      "  81.]\n",
      "Column name: instant_bookable\n",
      "Data type: object\n",
      "Unique values: ['f' 't']\n",
      "Column name: cancellation_policy\n",
      "Data type: object\n",
      "Unique values: ['moderate' 'strict' 'flexible']\n",
      "Column name: require_guest_profile_picture\n",
      "Data type: object\n",
      "Unique values: ['f' 't']\n",
      "Column name: price\n",
      "Data type: object\n",
      "Unique values: ['$85.00' '$150.00' '$975.00' '$100.00' '$450.00' '$120.00' '$80.00'\n",
      " '$60.00' '$90.00' '$95.00' '$99.00' '$245.00' '$165.00' '$461.00'\n",
      " '$109.00' '$66.00' '$200.00' '$700.00' '$110.00' '$75.00' '$600.00'\n",
      " '$45.00' '$300.00' '$175.00' '$325.00' '$222.00' '$159.00' '$125.00'\n",
      " '$348.00' '$148.00' '$350.00' '$349.00' '$160.00' '$130.00' '$137.00'\n",
      " '$20.00' '$145.00' '$400.00' '$70.00' '$170.00' '$465.00' '$50.00'\n",
      " '$59.00' '$47.00' '$55.00' '$65.00' '$25.00' '$40.00' '$149.00' '$129.00'\n",
      " '$105.00' '$218.00' '$126.00' '$115.00' '$225.00' '$89.00' '$134.00'\n",
      " '$375.00' '$97.00' '$197.00' '$135.00' '$180.00' '$69.00' '$195.00'\n",
      " '$224.00' '$338.00' '$79.00' '$49.00' '$57.00' '$96.00' '$295.00'\n",
      " '$53.00' '$35.00' '$133.00' '$61.00' '$52.00' '$275.00' '$199.00'\n",
      " '$435.00' '$250.00' '$116.00' '$39.00' '$98.00' '$73.00' '$190.00'\n",
      " '$68.00' '$196.00' '$209.00' '$749.00' '$285.00' '$235.00' '$103.00'\n",
      " '$143.00' '$142.00' '$335.00' '$499.00' '$156.00' '$94.00' '$219.00'\n",
      " '$91.00' '$74.00' '$140.00' '$104.00' '$122.00' '$158.00' '$42.00'\n",
      " '$185.00' '$680.00' '$119.00' '$575.00' '$139.00' '$259.00' '$166.00'\n",
      " '$215.00' '$249.00' '$210.00' '$439.00' '$155.00' '$54.00' '$254.00'\n",
      " '$310.00' '$490.00' '$255.00' '$144.00' '$46.00' '$445.00' '$395.00'\n",
      " '$88.00' '$425.00' '$114.00' '$117.00' '$107.00' '$76.00' '$179.00'\n",
      " '$84.00' '$265.00' '$92.00' '$550.00' '$111.00' '$141.00' '$775.00'\n",
      " '$78.00' '$48.00' '$82.00' '$169.00' '$58.00' '$240.00' '$189.00'\n",
      " '$500.00' '$41.00' '$43.00' '$44.00' '$30.00' '$112.00' '$63.00' '$28.00'\n",
      " '$93.00' '$306.00' '$29.00' '$83.00' '$118.00' '$128.00' '$168.00'\n",
      " '$62.00' '$380.00' '$157.00' '$203.00' '$56.00' '$330.00' '$67.00'\n",
      " '$72.00' '$81.00' '$124.00' '$108.00' '$220.00' '$37.00' '$270.00'\n",
      " '$87.00' '$287.00' '$279.00' '$257.00' '$163.00' '$64.00' '$38.00'\n",
      " '$557.00' '$299.00' '$311.00' '$357.00' '$138.00' '$183.00' '$229.00'\n",
      " '$333.00' '$147.00' '$280.00' '$178.00' '$480.00' '$172.00' '$999.00'\n",
      " '$320.00' '$127.00' '$405.00' '$899.00' '$239.00' '$131.00' '$113.00'\n",
      " '$106.00' '$475.00' '$205.00' '$181.00' '$399.00' '$193.00' '$444.00'\n",
      " '$187.00' '$186.00' '$171.00' '$230.00' '$167.00' '$151.00' '$132.00'\n",
      " '$365.00' '$121.00' '$188.00' '$276.00' '$290.00' '$237.00' '$77.00'\n",
      " '$174.00' '$153.00' '$269.00' '$495.00' '$101.00' '$370.00' '$136.00'\n",
      " '$51.00' '$34.00' '$26.00' '$86.00' '$177.00' '$260.00' '$36.00'\n",
      " '$244.00' '$525.00' '$750.00' '$415.00' '$162.00' '$256.00' '$182.00'\n",
      " '$212.00' '$360.00' '$198.00' '$673.00' '$204.00' '$152.00' '$420.00'\n",
      " '$71.00' '$252.00' '$1,000.00' '$33.00' '$498.00' '$217.00' '$207.00'\n",
      " '$228.00' '$950.00' '$102.00' '$27.00' '$146.00' '$545.00' '$22.00'\n",
      " '$31.00' '$449.00' '$232.00' '$154.00' '$359.00']\n",
      "Column name: name_len\n",
      "Data type: int64\n",
      "Unique values: [4 6 5 3 7 8 2 9 1]\n",
      "Column name: summary_len\n",
      "Data type: int64\n",
      "Unique values: [  0  37  36  42  29  43  38  31  32  40  49  17  44  35  51  45  27  52\n",
      "  41  28  24  39  50  21  34  48  19  47  89  10  68   4  15  30  66  46\n",
      "  83  22  87  26  33  16  12  62  59 161  25  13  84   8  76  14  82  11\n",
      "  20  18  23  53  56  73  74  81  78   7  65  69  92  96  79  77  60  86\n",
      "  57   5   6  88  95  75  55  70  54   9  72  85  93  80  64  90 163  61\n",
      "   1  58   2  63 164]\n",
      "Column name: space_len\n",
      "Data type: int64\n",
      "Unique values: [174 140 178   0  83  81 167 165  23 143 164  29  63 184 180 168 125  20\n",
      "  47  84  60  90 158  42 171  30 141 170  67 173  91  85  68  24 157  59\n",
      "  51 137 114 127  10 107  18  27  69  32  39 195 175  25  89 105 182 112\n",
      "  28  74 129 190  33 119 148  26 151 172  58  54 183  97 176 161 150 110\n",
      "  73  55  49  99  14  64  62   6 181  48   8 185 192 169  75  70  61  98\n",
      " 155 162 177 103 197 136  80  35 123  36  71  56  40  94 152   7  44  15\n",
      " 115 120  45  95 187  19 131 179  65  12 146  22  96   9 166  46 118 142\n",
      " 186 106  77 163 139  79 109  13  50 154  11 108   5 104 128  82  38  57\n",
      " 116  43 191 147  21 156 102 160 126  34  31  16 159 134 130  86 144 111\n",
      " 138  41   4  52 132  72 124 193  66 189  17  53  87 153  92  93  37 133\n",
      " 121  76  78  88 145 194 149 113 100 122 135   3 101 188   2 196 117 200\n",
      " 201 199]\n",
      "Column name: description_len\n",
      "Data type: int64\n",
      "Unique values: [174 146 169  42 171 185 166 194 165 144 158 110 172 179 181 153 176  95\n",
      " 173 163 175 183 199 148 156 160 154 164 177 193 161 186 170 139 152 127\n",
      "  47  50  48 157  54  97 180 168 196 178  45 184 142   4 191  44  27 141\n",
      " 151 155  37 162  39 195 120  96 107 117 167 197  28  43  89  49  87 149\n",
      "  41  26 159 126 111 147 188  31  93 131 130  34  77  80  61 122 106  38\n",
      "  75 182 190 100 140 114 134 145 192 150  35  56 189  68  25 138  24 123\n",
      " 129 128  40  46  22 187  36  98  33  73 102  74  81 135 136  16  78  14\n",
      "   7 125 109  79 103 124  90  65  32  94  55  21  12  11  64  84  58  15\n",
      " 105  86  69 118 116  20  60  91 143 119 198 132  52  53 121  30 113 108\n",
      "  19  29  51  63 115   5  57  85  83  66  82   6  71  59  70  13 104  18\n",
      " 137 133  62   9 202  92  10 200  88  76 112  17   2   8 101]\n",
      "Column name: neighborhood_overview_len\n",
      "Data type: int64\n",
      "Unique values: [  0  27 111  86  21  15  16  81  49 109 148 154  52 131  67  31  36  55\n",
      "  75  96  23 141  59  78  25  99  34  72  61  44  40  98  37  77 177  54\n",
      "  42  89 169 110  66  93  26  47  24  51  17  63   5  38  94  83 105 122\n",
      " 108  76  46 133  29  79  53  91 170 142  35 179  33  85  50  65  58 166\n",
      " 162  22 150  20 107 116  92  82 117 134   7 100 174 173  43 155 119  97\n",
      " 103  41  32  14  64 168  60  18   6 163   1 172  13 136  28 115  62 120\n",
      "   4 130 158 171 176  68  90  12 139  56 102  74 157  80  19 185  70 161\n",
      "  45 180 140  71  39  11  57 104 156  84  69 146  48  87 175 135 145 147\n",
      "  95 144 129   2 128 127 164 165 149 124 178 151 159 190 121 101  73 183\n",
      " 186 125 181 138   8   3 167  30 106 114 112  88 137 184 113  10   9 126\n",
      " 160 187 189 152 182 194 123 153 118 132 143]\n",
      "Column name: notes_len\n",
      "Data type: int64\n",
      "Unique values: [  0 166  28   1  14  15  30  23  31 108 174  16  67  20  72 102  21  40\n",
      "  11  39 105  78   9  84  34  81  35  25  42  32  63  22  33  45  24  36\n",
      " 189  56 120  29  38 115  41  83  18  10   2  46   4  51   3  65  26  17\n",
      "  50   5  47  71  75  61  73  27   8  13   7  44  66  59  53 167  74 169\n",
      "  82 172   6  98 113  58 129  12  68  48  49 136  43 143  69 117  60  99\n",
      " 116 106  70 110  19  54  97  55  94 182 104  37 149  88 103 148 177 178\n",
      " 168 124 190  79 145 154  96 139  57 107 130  87 175  62  90  64 162 185\n",
      " 140 101 171 197  77 163 158  93 127 134  52 176 155 160 128 184  92 192\n",
      " 180 181 142  95 141 179 152 137 126 111 153 100  91 170 147 132 161 196\n",
      " 191 202 131 156 125 118  85 109  86 159  80  89 119 123  76 183 165 138\n",
      " 173 193 200 187 146 133 194]\n",
      "Column name: host_about_len\n",
      "Data type: int64\n",
      "Unique values: [ 73  12  62   0  61  38  41 208  45 103 129  86  30 128   1  90 106 195\n",
      "  14  37  40  47   7  58 127  77  35 165  57 138  88  29  59  42  70  43\n",
      "   8   3  72  15  34  76  84  25  17  55 118 343 341  27  11 102  92  67\n",
      "  49  81  99  22  44 121  23  75 227  33  63 250  46  65  56  71 133 230\n",
      "  26  50 185  36 114   6  53  19  20 160  54  52 155  80  39 140 327  16\n",
      " 104  68   9 161  95  32 300 105  83  51  64  31 168  74 112 110  82  60\n",
      "  97  87  78 147   2  66 119  28 148  98  96 278 203 159 158 164 136 247\n",
      "  10 282 139 179 146 100  85   4 101  94 154 125 109 111  93 122 257 169\n",
      " 177 108 137 107  21 174 207 162  18 211  13  69 222 135 209 156 217 190\n",
      " 157 193 144 126 218 237 188 130 113  89   5  91 255 132 124 166 319 171\n",
      " 394 116 153  24 214 262 201 181 183 184 232 311 167 123 260 142 415 334\n",
      " 176 120 115 170 151  79 172 178 289 716 566 173 354 296 431 348  48 163\n",
      " 216 638 235 322 143 539 233 248 182 180 225 187 145 535 287 199 443 321\n",
      " 280 215 149 197 256 234 272 152 213 332 254 150 221 202 194 240 117 141\n",
      " 258 267 313 131 389 302 284 325 298 204 496 198 738 292]\n"
     ]
    }
   ],
   "source": [
    "# take a look at unique values in each column, and perform proper feature engineering\n",
    "for col in clean_df:\n",
    "    if col not in description_columns:\n",
    "        print('Column name: {}'.format(col))\n",
    "        print('Data type: {}'.format(clean_df[col].dtypes))\n",
    "        print('Unique values: {}'.format(clean_df[col].unique()))"
   ]
  },
  {
   "cell_type": "code",
   "execution_count": 15,
   "metadata": {
    "_uuid": "9f0cf31b326e1aa6f5854add34e72d5c00cb65d4"
   },
   "outputs": [],
   "source": [
    "#  Convert 'host_since' to number of years of being a host\n",
    "def host_since_to_days(delta):\n",
    "    return delta.days\n",
    "\n",
    "clean_df['host_days'] = (datetime.datetime.now() - \\\n",
    "                         pd.to_datetime(clean_df.host_since, \\\n",
    "                                        format='%Y-%m-%d', errors='ignore')).apply(host_since_to_days)\n",
    "clean_df.drop(['host_since'], axis=1, inplace=True)"
   ]
  },
  {
   "cell_type": "code",
   "execution_count": 16,
   "metadata": {
    "_uuid": "107738dbe407bfcd52e43216f47ef6c7d94e0343"
   },
   "outputs": [],
   "source": [
    "# Convert host_response_time to ordinal integers\n",
    "# host responds quicker should have higher score\n",
    "clean_df.host_response_time.replace('a few days or more', 1, inplace=True)\n",
    "clean_df.host_response_time.replace('within a day', 2, inplace=True)\n",
    "clean_df.host_response_time.replace('within a few hours', 3, inplace=True)\n",
    "clean_df.host_response_time.replace('within an hour', 4, inplace=True)"
   ]
  },
  {
   "cell_type": "code",
   "execution_count": 17,
   "metadata": {
    "_uuid": "cb0c738946d50d006d6d97c6f5e8044e7d582329"
   },
   "outputs": [],
   "source": [
    "# Convert host_response_rate and host_acceptance_rate to float\n",
    "def str_to_float(string):\n",
    "    #print(string is np.nan)\n",
    "    if string is not np.nan:\n",
    "        num = float(string[:-1])\n",
    "        return num / 100.0\n",
    "    else:\n",
    "        return string\n",
    "\n",
    "clean_df.host_response_rate = clean_df.host_response_rate.apply(str_to_float)\n",
    "clean_df.host_acceptance_rate = clean_df.host_acceptance_rate.apply(str_to_float)"
   ]
  },
  {
   "cell_type": "code",
   "execution_count": 18,
   "metadata": {
    "_uuid": "5c042703465e50d205cf9baa94d7fb51f1968606"
   },
   "outputs": [],
   "source": [
    "# convert host_verifications to number of verification methods\n",
    "# convert amenities to number of amenities in a listing\n",
    "def list_to_int(val):\n",
    "    if val is not np.nan:\n",
    "        num = len(val.split(','))\n",
    "    else:\n",
    "        num = 0\n",
    "    return num\n",
    "\n",
    "clean_df.host_verifications = clean_df.host_verifications.apply(list_to_int)\n",
    "clean_df.amenities = clean_df.amenities.apply(list_to_int)"
   ]
  },
  {
   "cell_type": "code",
   "execution_count": 19,
   "metadata": {
    "_uuid": "28d2c76bdd1e587bb7103c681132a9f7d1a21283"
   },
   "outputs": [],
   "source": [
    "# Convert cancellation_policy to ordinal integers\n",
    "# the more flexible cacellation policy should have higher score\n",
    "clean_df.cancellation_policy.replace('strict', 1, inplace=True)\n",
    "clean_df.cancellation_policy.replace('moderate', 2, inplace=True)\n",
    "clean_df.cancellation_policy.replace('flexible', 3, inplace=True)"
   ]
  },
  {
   "cell_type": "code",
   "execution_count": 20,
   "metadata": {
    "_uuid": "06359482a1f8df0a7a550bb7e292ace7716fccc9"
   },
   "outputs": [],
   "source": [
    "# Convert price to float\n",
    "def price_to_float(price):\n",
    "    if price is not np.nan:\n",
    "        price = price[1:-2]\n",
    "        num = re.findall('\\d+',price) \n",
    "        #if len(num) > 1:\n",
    "        num = float(''.join(num))\n",
    "        return num\n",
    "    else:\n",
    "        return price\n",
    "\n",
    "clean_df.price = clean_df.price.apply(price_to_float)"
   ]
  },
  {
   "cell_type": "code",
   "execution_count": 21,
   "metadata": {
    "_uuid": "322de69e94cf9f320f5c838ad1bf7da2ad153f09"
   },
   "outputs": [
    {
     "name": "stdout",
     "output_type": "stream",
     "text": [
      "Column name: host_response_time\n",
      "Data type: float64\n",
      "Unique values: [ 3.  4. nan  2.  1.]\n",
      "Column name: host_response_rate\n",
      "Data type: float64\n",
      "Unique values: [0.96 0.98 0.67  nan 1.   0.71 0.97 0.6  0.5  0.31 0.9  0.7  0.88 0.8\n",
      " 0.63 0.33 0.99 0.75 0.83 0.94 0.58 0.43 0.93 0.92 0.4  0.57 0.89 0.95\n",
      " 0.78 0.81 0.91 0.38 0.86 0.3  0.56 0.76 0.64 0.82 0.17 0.87 0.25 0.69\n",
      " 0.53 0.65 0.68 0.55]\n",
      "Column name: host_acceptance_rate\n",
      "Data type: float64\n",
      "Unique values: [ 1. nan  0.]\n",
      "Column name: host_is_superhost\n",
      "Data type: object\n",
      "Unique values: ['f' 't' nan]\n",
      "Column name: host_listings_count\n",
      "Data type: float64\n",
      "Unique values: [  3.   6.   2.   1.   5.   9.   4.  36. 354.   8.  37.   7.  34.  10.\n",
      "  13.  21.  11. 169.  48. 502.  12.  nan  18.  19.  15.  84. 163.  17.]\n",
      "Column name: host_verifications\n",
      "Data type: int64\n",
      "Unique values: [4 6 5 7 3 2 1 8]\n",
      "Column name: host_has_profile_pic\n",
      "Data type: object\n",
      "Unique values: ['t' 'f' nan]\n",
      "Column name: host_identity_verified\n",
      "Data type: object\n",
      "Unique values: ['t' 'f' nan]\n",
      "Column name: neighbourhood_group_cleansed\n",
      "Data type: object\n",
      "Unique values: ['Queen Anne' 'Ballard' 'Other neighborhoods' 'Cascade' 'Central Area'\n",
      " 'University District' 'Downtown' 'Magnolia' 'West Seattle' 'Interbay'\n",
      " 'Beacon Hill' 'Rainier Valley' 'Delridge' 'Seward Park' 'Northgate'\n",
      " 'Capitol Hill' 'Lake City']\n",
      "Column name: property_type\n",
      "Data type: object\n",
      "Unique values: ['Apartment' 'House' 'Cabin' 'Condominium' 'Camper/RV' 'Bungalow'\n",
      " 'Townhouse' 'Loft' 'Boat' 'Bed & Breakfast' 'Other' 'Dorm' 'Treehouse'\n",
      " 'Yurt' 'Chalet' 'Tent' nan]\n",
      "Column name: room_type\n",
      "Data type: object\n",
      "Unique values: ['Entire home/apt' 'Private room' 'Shared room']\n",
      "Column name: accommodates\n",
      "Data type: int64\n",
      "Unique values: [ 4 11  3  6  2  5 16 10  1  8  7 12  9 15 14]\n",
      "Column name: bathrooms\n",
      "Data type: float64\n",
      "Unique values: [1.  4.5 2.  3.5 1.5 2.5 3.  0.5 4.  0.  8.  nan 5. ]\n",
      "Column name: bedrooms\n",
      "Data type: float64\n",
      "Unique values: [ 1.  5.  0.  3.  2.  6.  4. nan  7.]\n",
      "Column name: beds\n",
      "Data type: float64\n",
      "Unique values: [ 1.  7.  2.  3. 15.  5.  4.  6.  9.  8. nan 10.]\n",
      "Column name: bed_type\n",
      "Data type: object\n",
      "Unique values: ['Real Bed' 'Futon' 'Pull-out Sofa' 'Airbed' 'Couch']\n",
      "Column name: amenities\n",
      "Data type: int64\n",
      "Unique values: [10 16 21 14 13  6  7 15 12 17 19  8 20 11 18  5  1 23 24  9 22  2 26  4\n",
      "  3 25 27 30 28]\n",
      "Column name: minimum_nights\n",
      "Data type: int64\n",
      "Unique values: [   1    2    4    3    5   14   30   21   20    7    6   26   15   12\n",
      "   10   13   31    8 1000   28   11   29]\n",
      "Column name: maximum_nights\n",
      "Data type: int64\n",
      "Unique values: [   365     90     30   1125      6     14      7     29     15     10\n",
      "    120     26    999     60     45     35     28     31    100     16\n",
      "     21     13     99    180      3      5     44      9     32     20\n",
      "      8    730    500     22     27      4    270     24    125    150\n",
      "    360     40      1     70     50     18     25    260     33    234\n",
      "      2     95   1000   1825 100000     23     19    200     93    183\n",
      "    352     12     11     65     91    160    330    400]\n",
      "Column name: availability_90\n",
      "Data type: int64\n",
      "Unique values: [71 16 17  0 90 27 42 66 49 21 63 65 69 89 82 84 85 33 30 62 77  9 68 88\n",
      " 76 40 43 64 11 87 20 81 29 28 50 45 44 48 25 75 46 80 73 52 79 60 13 56\n",
      " 70 78 19 34 54  2 72 59 61 83 10 51  8 58 14 67 86 38  1 31  5 53 23  3\n",
      " 26 32 35 57 55 22 47 15  7 36 12 74 41  6 24 37 18  4 39]\n",
      "Column name: number_of_reviews\n",
      "Data type: int64\n",
      "Unique values: [207  43  20   0  38  17  58 173   8  32 181  13   3  18   1  84  45   5\n",
      "  11  80   6   4  68  62  19   7   2  71   9  41  26  44  10  77 109  52\n",
      " 191  65  16  23  75  86 151 165  48  27  88 244  40  46  14  12  25  35\n",
      "  31 113  15  56  39  79  50  28  57  64  85 125 121 131  49 111  24  81\n",
      " 115  72  74 107 155  98 139  34  36  61  55  53  59  63  21 106  30  97\n",
      "  54  29  37  33 203 182  66  70  69 100  47  83  73 118  60 112  42 135\n",
      "  22  92  78 132  93 124 146 158 270 104  96  99  94 136  51 164  95 141\n",
      " 183 188  89 108  76  67 159 123 168 170 466 474 161 265 319 114 102 240\n",
      " 154 122 105 117 133  82 209 238 137 297 144 127 179 138 190  90 206 166\n",
      " 145 148  91 147 287 101 204 134 320 278 189 175 279 294 263 193 255  87\n",
      " 110 119 404 103 219 156 180 120 277 142 353 150 233 210 128]\n",
      "Column name: review_scores_rating\n",
      "Data type: float64\n",
      "Unique values: [ 95.  96.  97.  nan  92.  99.  98. 100.  80.  85.  84.  88.  75.  90.\n",
      "  91.  94.  93.  77.  89.  71.  82.  87.  73.  83.  86.  76.  78.  66.\n",
      "  74.  60.  64.  70.  68.  72.  40.  79.  55.  20.  67.  57.  65.  53.\n",
      "  81.]\n",
      "Column name: instant_bookable\n",
      "Data type: object\n",
      "Unique values: ['f' 't']\n",
      "Column name: cancellation_policy\n",
      "Data type: int64\n",
      "Unique values: [2 1 3]\n",
      "Column name: require_guest_profile_picture\n",
      "Data type: object\n",
      "Unique values: ['f' 't']\n",
      "Column name: price\n",
      "Data type: float64\n",
      "Unique values: [  85.  150.  975.  100.  450.  120.   80.   60.   90.   95.   99.  245.\n",
      "  165.  461.  109.   66.  200.  700.  110.   75.  600.   45.  300.  175.\n",
      "  325.  222.  159.  125.  348.  148.  350.  349.  160.  130.  137.   20.\n",
      "  145.  400.   70.  170.  465.   50.   59.   47.   55.   65.   25.   40.\n",
      "  149.  129.  105.  218.  126.  115.  225.   89.  134.  375.   97.  197.\n",
      "  135.  180.   69.  195.  224.  338.   79.   49.   57.   96.  295.   53.\n",
      "   35.  133.   61.   52.  275.  199.  435.  250.  116.   39.   98.   73.\n",
      "  190.   68.  196.  209.  749.  285.  235.  103.  143.  142.  335.  499.\n",
      "  156.   94.  219.   91.   74.  140.  104.  122.  158.   42.  185.  680.\n",
      "  119.  575.  139.  259.  166.  215.  249.  210.  439.  155.   54.  254.\n",
      "  310.  490.  255.  144.   46.  445.  395.   88.  425.  114.  117.  107.\n",
      "   76.  179.   84.  265.   92.  550.  111.  141.  775.   78.   48.   82.\n",
      "  169.   58.  240.  189.  500.   41.   43.   44.   30.  112.   63.   28.\n",
      "   93.  306.   29.   83.  118.  128.  168.   62.  380.  157.  203.   56.\n",
      "  330.   67.   72.   81.  124.  108.  220.   37.  270.   87.  287.  279.\n",
      "  257.  163.   64.   38.  557.  299.  311.  357.  138.  183.  229.  333.\n",
      "  147.  280.  178.  480.  172.  999.  320.  127.  405.  899.  239.  131.\n",
      "  113.  106.  475.  205.  181.  399.  193.  444.  187.  186.  171.  230.\n",
      "  167.  151.  132.  365.  121.  188.  276.  290.  237.   77.  174.  153.\n",
      "  269.  495.  101.  370.  136.   51.   34.   26.   86.  177.  260.   36.\n",
      "  244.  525.  750.  415.  162.  256.  182.  212.  360.  198.  673.  204.\n",
      "  152.  420.   71.  252. 1000.   33.  498.  217.  207.  228.  950.  102.\n",
      "   27.  146.  545.   22.   31.  449.  232.  154.  359.]\n",
      "Column name: name_len\n",
      "Data type: int64\n",
      "Unique values: [4 6 5 3 7 8 2 9 1]\n",
      "Column name: summary_len\n",
      "Data type: int64\n",
      "Unique values: [  0  37  36  42  29  43  38  31  32  40  49  17  44  35  51  45  27  52\n",
      "  41  28  24  39  50  21  34  48  19  47  89  10  68   4  15  30  66  46\n",
      "  83  22  87  26  33  16  12  62  59 161  25  13  84   8  76  14  82  11\n",
      "  20  18  23  53  56  73  74  81  78   7  65  69  92  96  79  77  60  86\n",
      "  57   5   6  88  95  75  55  70  54   9  72  85  93  80  64  90 163  61\n",
      "   1  58   2  63 164]\n",
      "Column name: space_len\n",
      "Data type: int64\n",
      "Unique values: [174 140 178   0  83  81 167 165  23 143 164  29  63 184 180 168 125  20\n",
      "  47  84  60  90 158  42 171  30 141 170  67 173  91  85  68  24 157  59\n",
      "  51 137 114 127  10 107  18  27  69  32  39 195 175  25  89 105 182 112\n",
      "  28  74 129 190  33 119 148  26 151 172  58  54 183  97 176 161 150 110\n",
      "  73  55  49  99  14  64  62   6 181  48   8 185 192 169  75  70  61  98\n",
      " 155 162 177 103 197 136  80  35 123  36  71  56  40  94 152   7  44  15\n",
      " 115 120  45  95 187  19 131 179  65  12 146  22  96   9 166  46 118 142\n",
      " 186 106  77 163 139  79 109  13  50 154  11 108   5 104 128  82  38  57\n",
      " 116  43 191 147  21 156 102 160 126  34  31  16 159 134 130  86 144 111\n",
      " 138  41   4  52 132  72 124 193  66 189  17  53  87 153  92  93  37 133\n",
      " 121  76  78  88 145 194 149 113 100 122 135   3 101 188   2 196 117 200\n",
      " 201 199]\n",
      "Column name: description_len\n",
      "Data type: int64\n",
      "Unique values: [174 146 169  42 171 185 166 194 165 144 158 110 172 179 181 153 176  95\n",
      " 173 163 175 183 199 148 156 160 154 164 177 193 161 186 170 139 152 127\n",
      "  47  50  48 157  54  97 180 168 196 178  45 184 142   4 191  44  27 141\n",
      " 151 155  37 162  39 195 120  96 107 117 167 197  28  43  89  49  87 149\n",
      "  41  26 159 126 111 147 188  31  93 131 130  34  77  80  61 122 106  38\n",
      "  75 182 190 100 140 114 134 145 192 150  35  56 189  68  25 138  24 123\n",
      " 129 128  40  46  22 187  36  98  33  73 102  74  81 135 136  16  78  14\n",
      "   7 125 109  79 103 124  90  65  32  94  55  21  12  11  64  84  58  15\n",
      " 105  86  69 118 116  20  60  91 143 119 198 132  52  53 121  30 113 108\n",
      "  19  29  51  63 115   5  57  85  83  66  82   6  71  59  70  13 104  18\n",
      " 137 133  62   9 202  92  10 200  88  76 112  17   2   8 101]\n",
      "Column name: neighborhood_overview_len\n",
      "Data type: int64\n",
      "Unique values: [  0  27 111  86  21  15  16  81  49 109 148 154  52 131  67  31  36  55\n",
      "  75  96  23 141  59  78  25  99  34  72  61  44  40  98  37  77 177  54\n",
      "  42  89 169 110  66  93  26  47  24  51  17  63   5  38  94  83 105 122\n",
      " 108  76  46 133  29  79  53  91 170 142  35 179  33  85  50  65  58 166\n",
      " 162  22 150  20 107 116  92  82 117 134   7 100 174 173  43 155 119  97\n",
      " 103  41  32  14  64 168  60  18   6 163   1 172  13 136  28 115  62 120\n",
      "   4 130 158 171 176  68  90  12 139  56 102  74 157  80  19 185  70 161\n",
      "  45 180 140  71  39  11  57 104 156  84  69 146  48  87 175 135 145 147\n",
      "  95 144 129   2 128 127 164 165 149 124 178 151 159 190 121 101  73 183\n",
      " 186 125 181 138   8   3 167  30 106 114 112  88 137 184 113  10   9 126\n",
      " 160 187 189 152 182 194 123 153 118 132 143]\n",
      "Column name: notes_len\n",
      "Data type: int64\n",
      "Unique values: [  0 166  28   1  14  15  30  23  31 108 174  16  67  20  72 102  21  40\n",
      "  11  39 105  78   9  84  34  81  35  25  42  32  63  22  33  45  24  36\n",
      " 189  56 120  29  38 115  41  83  18  10   2  46   4  51   3  65  26  17\n",
      "  50   5  47  71  75  61  73  27   8  13   7  44  66  59  53 167  74 169\n",
      "  82 172   6  98 113  58 129  12  68  48  49 136  43 143  69 117  60  99\n",
      " 116 106  70 110  19  54  97  55  94 182 104  37 149  88 103 148 177 178\n",
      " 168 124 190  79 145 154  96 139  57 107 130  87 175  62  90  64 162 185\n",
      " 140 101 171 197  77 163 158  93 127 134  52 176 155 160 128 184  92 192\n",
      " 180 181 142  95 141 179 152 137 126 111 153 100  91 170 147 132 161 196\n",
      " 191 202 131 156 125 118  85 109  86 159  80  89 119 123  76 183 165 138\n",
      " 173 193 200 187 146 133 194]\n",
      "Column name: host_about_len\n",
      "Data type: int64\n",
      "Unique values: [ 73  12  62   0  61  38  41 208  45 103 129  86  30 128   1  90 106 195\n",
      "  14  37  40  47   7  58 127  77  35 165  57 138  88  29  59  42  70  43\n",
      "   8   3  72  15  34  76  84  25  17  55 118 343 341  27  11 102  92  67\n",
      "  49  81  99  22  44 121  23  75 227  33  63 250  46  65  56  71 133 230\n",
      "  26  50 185  36 114   6  53  19  20 160  54  52 155  80  39 140 327  16\n",
      " 104  68   9 161  95  32 300 105  83  51  64  31 168  74 112 110  82  60\n",
      "  97  87  78 147   2  66 119  28 148  98  96 278 203 159 158 164 136 247\n",
      "  10 282 139 179 146 100  85   4 101  94 154 125 109 111  93 122 257 169\n",
      " 177 108 137 107  21 174 207 162  18 211  13  69 222 135 209 156 217 190\n",
      " 157 193 144 126 218 237 188 130 113  89   5  91 255 132 124 166 319 171\n",
      " 394 116 153  24 214 262 201 181 183 184 232 311 167 123 260 142 415 334\n",
      " 176 120 115 170 151  79 172 178 289 716 566 173 354 296 431 348  48 163\n",
      " 216 638 235 322 143 539 233 248 182 180 225 187 145 535 287 199 443 321\n",
      " 280 215 149 197 256 234 272 152 213 332 254 150 221 202 194 240 117 141\n",
      " 258 267 313 131 389 302 284 325 298 204 496 198 738 292]\n",
      "Column name: host_days\n",
      "Data type: float64\n",
      "Unique values: [2680. 2120. 1644. ... 2817. 1078. 1692.]\n"
     ]
    }
   ],
   "source": [
    "# take a look at unique values in each column, and perform proper feature engineering\n",
    "for col in clean_df:\n",
    "    if col not in description_columns:\n",
    "        print('Column name: {}'.format(col))\n",
    "        print('Data type: {}'.format(clean_df[col].dtypes))\n",
    "        print('Unique values: {}'.format(clean_df[col].unique()))"
   ]
  },
  {
   "cell_type": "code",
   "execution_count": 22,
   "metadata": {
    "_uuid": "1bd19de04dda85ed99d04f0d9bbfd2c7402b2574"
   },
   "outputs": [],
   "source": [
    "## Creat new columns to keep track of missing values\n",
    "for col in clean_df.columns:\n",
    "    if clean_df[col].isnull().sum() > 0:\n",
    "        new_col = col + '_missing'\n",
    "        clean_df[new_col] = clean_df[col].isnull()\n",
    "        clean_df[new_col].replace(True,1, inplace=True)\n",
    "        clean_df[new_col].replace(False,0, inplace=True)\n",
    "    "
   ]
  },
  {
   "cell_type": "code",
   "execution_count": 23,
   "metadata": {
    "_uuid": "25f8250eeab679a36daa8812e32f93e18c6ee500"
   },
   "outputs": [],
   "source": [
    "# fill missing values in numeric columns with mean value\n",
    "for col in clean_df.select_dtypes(exclude=['object']).columns:\n",
    "    if clean_df[col].isnull().sum() >0:\n",
    "        clean_df[col].fillna(value=clean_df[col].mean(), inplace=True)"
   ]
  },
  {
   "cell_type": "markdown",
   "metadata": {
    "_uuid": "88b36ab3e7be3a9342e4f3bfccbf6caf196d146b"
   },
   "source": [
    "##  Which neighborhoods has the most expensive listings?\n",
    "Here you can see in descending order the difference between mean listing price per neighborhood and the overall mean listing price for the entire Seattle area. The average listing price in Seattle is about \\$128. The ** top 3 ** most expensive areas  are ** Magnolia, Queen Anne and Downtown **. The average listing price for Magnolia is more than \\$49 over the average listing price for the entire Seattle, \\$29 more for the Queen Anne area, and \\$26 more for the downtown area.\n"
   ]
  },
  {
   "cell_type": "code",
   "execution_count": 24,
   "metadata": {
    "_uuid": "014d1e074ca799adf975eb2b03d949bc709d9f99"
   },
   "outputs": [
    {
     "data": {
      "text/plain": [
       "127.97616553169199"
      ]
     },
     "execution_count": 24,
     "metadata": {},
     "output_type": "execute_result"
    }
   ],
   "source": [
    "clean_df.price.mean()"
   ]
  },
  {
   "cell_type": "code",
   "execution_count": 25,
   "metadata": {
    "_uuid": "bdfb639c74a5750908da6e2bf17aba3c7ae481e9",
    "scrolled": false
   },
   "outputs": [
    {
     "data": {
      "text/plain": [
       "neighbourhood_group_cleansed\n",
       "Delridge              -44.697685\n",
       "Northgate             -39.426166\n",
       "Rainier Valley        -36.076794\n",
       "Lake City             -35.304524\n",
       "University District   -34.336821\n",
       "Beacon Hill           -33.306674\n",
       "Seward Park           -19.498893\n",
       "Interbay              -18.248893\n",
       "Other neighborhoods    -8.007652\n",
       "Ballard                -3.293557\n",
       "Central Area            0.362588\n",
       "Capitol Hill            2.616427\n",
       "Cascade                12.124958\n",
       "West Seattle           13.383440\n",
       "Downtown               26.429495\n",
       "Queen Anne             29.247563\n",
       "Magnolia               49.695966\n",
       "Name: price, dtype: float64"
      ]
     },
     "execution_count": 25,
     "metadata": {},
     "output_type": "execute_result"
    },
    {
     "data": {
      "image/png": "[encoded data removed]",
      "text/plain": [
       "<Figure size 432x288 with 1 Axes>"
      ]
     },
     "metadata": {},
     "output_type": "display_data"
    }
   ],
   "source": [
    "plt.xlabel('Difference between listing price for different neighborhood and mean price for entire Seattle');\n",
    "plt.ylabel('Neighborhood');\n",
    "xheight = (clean_df.groupby('neighbourhood_group_cleansed').mean()['price']-clean_df.price.mean()).sort_values()\n",
    "plt.barh([i+1 for i in range(17)], xheight);\n",
    "plt.yticks([i+1 for i in range(17)], xheight.index);\n",
    "xheight"
   ]
  },
  {
   "cell_type": "markdown",
   "metadata": {
    "_uuid": "68de559c44313d47188fba2843b46b77aefb32e4"
   },
   "source": [
    "## What are the portions of best reviewed listings in different neighbourhood?\n",
    "From the review score distribution below, the distribution is left skewed, the top 25% of the listings have a review score over 98. Below is a visualization the portion of listings with review score higher than 98 in descending order. The clear leaders are the Central area, West Seattle, and Queen Anne . The central area has more than 33% of listings that are highly reviewed, 27.5% for west seattle and 27.1% for Queen Anne."
   ]
  },
  {
   "cell_type": "code",
   "execution_count": 26,
   "metadata": {
    "_uuid": "871775a0ee84d29f8b67b29c188f9844381d8c4a",
    "scrolled": true
   },
   "outputs": [
    {
     "data": {
      "text/plain": [
       "count    3818.000000\n",
       "mean       94.539262\n",
       "std         6.020223\n",
       "min        20.000000\n",
       "25%        94.000000\n",
       "50%        95.000000\n",
       "75%        98.000000\n",
       "max       100.000000\n",
       "Name: review_scores_rating, dtype: float64"
      ]
     },
     "execution_count": 26,
     "metadata": {},
     "output_type": "execute_result"
    },
    {
     "data": {
      "image/png": "[encoded data removed]",
      "text/plain": [
       "<Figure size 432x288 with 1 Axes>"
      ]
     },
     "metadata": {},
     "output_type": "display_data"
    }
   ],
   "source": [
    "# in oder to determine what is the best reviewed score, let's take a look at the review score distribution\n",
    "plt.hist(clean_df.review_scores_rating, bins=30);\n",
    "plt.xlim(30,110);\n",
    "clean_df.review_scores_rating.describe()"
   ]
  },
  {
   "cell_type": "code",
   "execution_count": 27,
   "metadata": {
    "_uuid": "fec8fb414571e4ed51160fbdd4d44e011f1bbcd8",
    "scrolled": true
   },
   "outputs": [
    {
     "data": {
      "text/plain": [
       "neighbourhood_group_cleansed\n",
       "University District    0.163934\n",
       "Interbay               0.181818\n",
       "Beacon Hill            0.186441\n",
       "Downtown               0.200000\n",
       "Ballard                0.204348\n",
       "Cascade                0.213483\n",
       "Rainier Valley         0.213836\n",
       "Other neighborhoods    0.243073\n",
       "Magnolia               0.245902\n",
       "Capitol Hill           0.246914\n",
       "Seward Park            0.250000\n",
       "Northgate              0.250000\n",
       "Delridge               0.253165\n",
       "Lake City              0.253731\n",
       "Queen Anne             0.271186\n",
       "West Seattle           0.275862\n",
       "Central Area           0.338753\n",
       "Name: review_scores_rating, dtype: float64"
      ]
     },
     "execution_count": 27,
     "metadata": {},
     "output_type": "execute_result"
    },
    {
     "data": {
      "image/png": "[encoded data removed]",
      "text/plain": [
       "<Figure size 432x288 with 1 Axes>"
      ]
     },
     "metadata": {},
     "output_type": "display_data"
    }
   ],
   "source": [
    "# in each neighbourhood, what is the portion of listing with review score higher than 98?\n",
    "count_neighbourhood = clean_df.groupby(['neighbourhood_group_cleansed'])['review_scores_rating'].count()\n",
    "count_high_review_neighbourhood = clean_df.query('review_scores_rating > 98').groupby(['neighbourhood_group_cleansed'])['review_scores_rating'].count()\n",
    "portion_high_review_neighbourhood = count_high_review_neighbourhood / count_neighbourhood \n",
    "sorted_portion = portion_high_review_neighbourhood.sort_values()\n",
    "\n",
    "plt.barh([i+1 for i in range(len(sorted_portion))], sorted_portion);\n",
    "plt.yticks([i+1 for i in range(len(sorted_portion))], sorted_portion.index);\n",
    "sorted_portion"
   ]
  },
  {
   "cell_type": "markdown",
   "metadata": {
    "_uuid": "228ac2abf488f15368a43fe1e4327a9946d10404"
   },
   "source": [
    "Interestingly, we noticed that the most pricey area like Magnolia and Downtown, both have less than 25% of listings that highly reviewed.\n",
    "## What is the property type distribution over different neighborhoods?"
   ]
  },
  {
   "cell_type": "code",
   "execution_count": 28,
   "metadata": {
    "_uuid": "77a5c619aca33f17202370cf203d9140801a9dde"
   },
   "outputs": [
    {
     "data": {
      "text/plain": [
       "property_type    neighbourhood_group_cleansed\n",
       "Apartment        Ballard                         108.066667\n",
       "                 Beacon Hill                      84.608696\n",
       "                 Capitol Hill                    119.176966\n",
       "                 Cascade                         123.808824\n",
       "                 Central Area                    103.235294\n",
       "                 Delridge                         98.333333\n",
       "                 Downtown                        153.989339\n",
       "                 Interbay                        131.250000\n",
       "                 Lake City                        87.636364\n",
       "                 Magnolia                        151.833333\n",
       "                 Northgate                        86.629630\n",
       "                 Other neighborhoods             107.212766\n",
       "                 Queen Anne                      123.497041\n",
       "                 Rainier Valley                   93.133333\n",
       "                 Seward Park                      86.000000\n",
       "                 University District              92.934211\n",
       "                 West Seattle                     98.095238\n",
       "Bed & Breakfast  Ballard                          84.500000\n",
       "                 Beacon Hill                      89.000000\n",
       "                 Capitol Hill                    142.200000\n",
       "                 Delridge                         72.000000\n",
       "                 Downtown                         94.500000\n",
       "                 Lake City                        92.000000\n",
       "                 Magnolia                         75.000000\n",
       "                 Northgate                        70.000000\n",
       "                 Other neighborhoods             106.428571\n",
       "                 Queen Anne                      209.000000\n",
       "                 Rainier Valley                   74.600000\n",
       "                 West Seattle                    164.666667\n",
       "Boat             Ballard                          75.000000\n",
       "                                                    ...    \n",
       "Loft             Rainier Valley                   87.500000\n",
       "                 West Seattle                    225.000000\n",
       "Other            Beacon Hill                      65.000000\n",
       "                 Capitol Hill                     87.500000\n",
       "                 Central Area                     85.000000\n",
       "                 Downtown                        104.000000\n",
       "                 Northgate                       130.000000\n",
       "                 Other neighborhoods              93.444444\n",
       "                 Rainier Valley                  118.000000\n",
       "                 University District              45.000000\n",
       "Tent             Beacon Hill                      65.000000\n",
       "                 Northgate                        50.000000\n",
       "                 Other neighborhoods              25.000000\n",
       "Townhouse        Ballard                         106.272727\n",
       "                 Beacon Hill                     112.500000\n",
       "                 Capitol Hill                    189.272727\n",
       "                 Cascade                         122.000000\n",
       "                 Central Area                    132.750000\n",
       "                 Delridge                         61.166667\n",
       "                 Magnolia                        197.666667\n",
       "                 Northgate                        66.500000\n",
       "                 Other neighborhoods              98.555556\n",
       "                 Queen Anne                      172.000000\n",
       "                 Rainier Valley                   69.000000\n",
       "                 University District              60.333333\n",
       "                 West Seattle                    147.222222\n",
       "Treehouse        Capitol Hill                    200.000000\n",
       "                 Rainier Valley                   48.000000\n",
       "                 West Seattle                     55.000000\n",
       "Yurt             West Seattle                    100.000000\n",
       "Name: price, Length: 131, dtype: float64"
      ]
     },
     "execution_count": 28,
     "metadata": {},
     "output_type": "execute_result"
    }
   ],
   "source": [
    "clean_df.groupby(['property_type', 'neighbourhood_group_cleansed']).mean()['price']"
   ]
  },
  {
   "cell_type": "code",
   "execution_count": 29,
   "metadata": {
    "_uuid": "3a2a4c54d423d2db9c365829d857c5ae725badd2",
    "scrolled": true
   },
   "outputs": [],
   "source": [
    "gb1=clean_df.groupby(['property_type', 'neighbourhood_group_cleansed'])['price']\n",
    "\n",
    "dict_gb = defaultdict(list)\n",
    "for k in gb1.apply(list).to_dict():\n",
    "    dict_gb[k[0]].append((k[1], np.mean(gb1.apply(list).to_dict()[k])))"
   ]
  },
  {
   "cell_type": "code",
   "execution_count": 30,
   "metadata": {
    "_uuid": "6333c7f10fdcdc22de0c276d3ce8f1773fb94cd5"
   },
   "outputs": [
    {
     "data": {
      "image/png": "[encoded data removed]",
      "text/plain": [
       "<Figure size 1152x1152 with 16 Axes>"
      ]
     },
     "metadata": {},
     "output_type": "display_data"
    }
   ],
   "source": [
    "fig, ax = plt.subplots(4, 4, figsize=(16, 16))\n",
    "i = 0\n",
    "j=0\n",
    "for p in dict_gb:\n",
    "\n",
    "    title = p\n",
    "    xlabel = list()\n",
    "    values = list()\n",
    "    for (n, v) in dict_gb[p]:\n",
    "        xlabel.append(n)\n",
    "        values.append(v)\n",
    "\n",
    "    j += 1\n",
    "    if j%4 == 0:\n",
    "        j = 0\n",
    "        i += 1\n",
    "        if i % 4==0:\n",
    "            i = 0\n",
    "\n",
    "    ax[i, j].bar(xlabel, values)\n",
    "    ax[i, j].set_title(p)\n",
    "    ax[i, j].xaxis.set_tick_params(rotation=90)\n",
    "plt.subplots_adjust(top=0.92, bottom=0.08, left=0.10, right=0.95, hspace=1,\n",
    "                    wspace=0.25 )\n",
    "\n",
    "    "
   ]
  },
  {
   "cell_type": "markdown",
   "metadata": {
    "_uuid": "ee3521ea2266fdde955ff942ea958bb1667e3dd8"
   },
   "source": [
    "The above 16 plots show the distribution over different neighbourhood for a specific property type. The distributions are drastically different for different property type. Interestingly, but not too surprisingly, you can only find dorm-type Airbnb listing in downtown Seattle. This makes sense given that downtown area is usually crowded with non-residential building like, office buildings, shopping centers and etc. Another interesting finding is that only the west Seattle area provide Yurt, which is a circular tent. This also makes sense, since west Seattle area is full of parks and green spaces, which is great for camping."
   ]
  },
  {
   "cell_type": "code",
   "execution_count": 31,
   "metadata": {
    "_uuid": "81adabac0e3e71793ada97acd3ae0c0856143b46"
   },
   "outputs": [],
   "source": [
    "# get dummy variables for categorical data\n",
    "df = pd.get_dummies(clean_df, drop_first=True, )"
   ]
  },
  {
   "cell_type": "code",
   "execution_count": 32,
   "metadata": {
    "_uuid": "d1ce2a602120d2862be2e185ada4803e38d65b93"
   },
   "outputs": [
    {
     "name": "stdout",
     "output_type": "stream",
     "text": [
      "There are 79 features in the dataset now.\n"
     ]
    }
   ],
   "source": [
    "print('There are {} features in the dataset now.'.format(df.shape[1] - 1))"
   ]
  },
  {
   "cell_type": "markdown",
   "metadata": {
    "_uuid": "32eebb3fe349637254cf9d3b067a36636aeb15e9"
   },
   "source": [
    "# Create model to predict listing price\n",
    "Use Random Forest Regression to predict the listing price."
   ]
  },
  {
   "cell_type": "code",
   "execution_count": 33,
   "metadata": {
    "_uuid": "a03676fd5d2820dff5ee2897324a2b8906f90349"
   },
   "outputs": [],
   "source": [
    "# first split data into features and targets\n",
    "y = df.price\n",
    "X = df.drop(['price'], axis=1)\n",
    "\n",
    "# split dataset into train and test sets\n",
    "X_train, X_test, y_train, y_test = train_test_split(X, y, test_size = 0.3, random_state=42)"
   ]
  },
  {
   "cell_type": "code",
   "execution_count": 34,
   "metadata": {
    "_uuid": "e85b939999148ac677bd8ade80f174cfe3315d56"
   },
   "outputs": [],
   "source": [
    "# Apply feature scaling to the train and test data\n",
    "X_train_scale = StandardScaler().fit_transform(X_train)\n",
    "X_test_scale = StandardScaler().fit_transform(X_test)"
   ]
  },
  {
   "cell_type": "markdown",
   "metadata": {
    "_uuid": "beef0b88c4d18f74f898b21f63076ae87d93a422"
   },
   "source": [
    "Having an imputed and scaled dataset with a mean of zero and standard deviation 1. The dataset is separated into target y (price), and features X.  X and y are split into a training and testing set of 0.7:0.3 ratio, keep a random state 42. Now we will use Random Forest Regression to perform predictions. \n"
   ]
  },
  {
   "cell_type": "code",
   "execution_count": 35,
   "metadata": {
    "_uuid": "48ed3ac4b19478dc485424209488fcc0308f9f87"
   },
   "outputs": [
    {
     "name": "stdout",
     "output_type": "stream",
     "text": [
      "The r-2 score for training data is 0.9185209712431888.\n",
      "The r-2 score for training data is 0.5430455475468754.\n"
     ]
    }
   ],
   "source": [
    "rf = RandomForestRegressor()\n",
    "rf.fit(X_train_scale, y_train)\n",
    "# rf.score(X_train_scale, y_train), rf.score(X_test_scale, y_test), rf.n_estimators\n",
    "print('The r-2 score for training data is {}.'.format(r2_score(y_train, rf.predict(X_train_scale))))\n",
    "print('The r-2 score for training data is {}.'.format(r2_score(y_test, rf.predict(X_test_scale))))"
   ]
  },
  {
   "cell_type": "markdown",
   "metadata": {
    "_uuid": "dce3df703e28c50118736a46222d48098e9a3055"
   },
   "source": [
    "Our model is doing great on the train dataset, but not good at the test set. We should do model tuning.\n"
   ]
  },
  {
   "cell_type": "code",
   "execution_count": 36,
   "metadata": {
    "_uuid": "42a79447cd7938c764c01b27b112184b35267c1d"
   },
   "outputs": [],
   "source": [
    "# use gridsearch to search for the best fit parameters\n",
    "rf_reg = RandomForestRegressor(random_state=42)\n",
    "\n",
    "parameters = {'n_estimators':[i for i in range(1, 30)], \\\n",
    "                           'max_depth':[4, 8, 16, 32, 64], \\\n",
    "                           'min_samples_leaf':[1,2,4,8, 16]}\n",
    "\n",
    "# scorer = make_scorer(r2_score)\n",
    "\n",
    "grid_obj = GridSearchCV(rf_reg, parameters, cv=4)\n",
    "\n",
    "# TODO: Fit the grid search object to the training data and find the optimal parameters using fit()\n",
    "grid_fit = grid_obj.fit(X_train_scale, y_train)\n",
    "\n",
    "# Get the estimator\n",
    "best_reg = grid_fit.best_estimator_\n"
   ]
  },
  {
   "cell_type": "code",
   "execution_count": 37,
   "metadata": {
    "_uuid": "3d9f47b98615df18c8c1f75d8b7b4c9c3a7bb8bc"
   },
   "outputs": [
    {
     "name": "stdout",
     "output_type": "stream",
     "text": [
      "The r-2 score for unoptimized model is 0.5490691967000461.\n",
      "The r-2 score for optimized model is 0.6010674648409522.\n"
     ]
    }
   ],
   "source": [
    "# Make predictions using the unoptimized and best model\n",
    "predictions = (rf.fit(X_train_scale, y_train)).predict(X_test_scale)\n",
    "best_predictions = best_reg.predict(X_test_scale)\n",
    "\n",
    "print('The r-2 score for unoptimized model is {}.'.format(r2_score(y_test, predictions)))\n",
    "print('The r-2 score for optimized model is {}.'.format(r2_score(y_test, best_predictions)))"
   ]
  },
  {
   "cell_type": "markdown",
   "metadata": {
    "_uuid": "a020d14da5a754491d5d4432d21f3611de109c7c"
   },
   "source": [
    "After parameters tuning, r2-score on the test dataset is improved from 0.528 to 0.601."
   ]
  },
  {
   "cell_type": "code",
   "execution_count": 38,
   "metadata": {
    "_uuid": "75ef10f3abd04907afa8d8de68541d9cf7ea2215"
   },
   "outputs": [
    {
     "data": {
      "image/png": "[encoded data removed]",
      "text/plain": [
       "<Figure size 432x288 with 1 Axes>"
      ]
     },
     "metadata": {},
     "output_type": "display_data"
    }
   ],
   "source": [
    "# plot feature importance of the best model\n",
    "feature_df = pd.DataFrame({'feature_importance':best_reg.feature_importances_}, index=X.columns)\n",
    "xlabels = feature_df.feature_importance.sort_values(ascending=False).index[:10]\n",
    "values = feature_df.feature_importance.sort_values(ascending=False).head(10)\n",
    "\n",
    "plt.barh(xlabels, values);"
   ]
  },
  {
   "cell_type": "markdown",
   "metadata": {
    "_uuid": "197e9e74f95c77f038a5a1ced0a6905440350d49"
   },
   "source": [
    "# Concolusion\n",
    "The trained model was able to predict quality with r2 score of 0.6. The algorithm showed that major features that impact listing price are number of bedrooms and bathrooms. Not surprisingly, the next features that affect rating the most is number of accomodates. Interestingly forth most important features is private room type\n"
   ]
  },
  {
   "cell_type": "code",
   "execution_count": null,
   "metadata": {},
   "outputs": [],
   "source": []
  }
 ],
 "metadata": {
  "kernelspec": {
   "display_name": "Python [default]",
   "language": "python",
   "name": "python3"
  },
  "language_info": {
   "codemirror_mode": {
    "name": "ipython",
    "version": 3
   },
   "file_extension": ".py",
   "mimetype": "text/x-python",
   "name": "python",
   "nbconvert_exporter": "python",
   "pygments_lexer": "ipython3",
   "version": "3.6.5"
  }
 },
 "nbformat": 4,
 "nbformat_minor": 1
}
